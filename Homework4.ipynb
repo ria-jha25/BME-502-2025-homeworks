{
 "cells": [
  {
   "cell_type": "markdown",
   "id": "1fbe377b",
   "metadata": {},
   "source": [
    "<h1>HW4</h1>"
   ]
  },
  {
   "cell_type": "markdown",
   "id": "79813e24",
   "metadata": {},
   "source": [
    "# Question 1\n",
    "### (Binomial) Read the following example and complete the exercises \n",
    "\n",
    "#### Tossing a Biased Coin\n",
    "You are asked if you want to bet on a coin. \n",
    "```\n",
    "You have 10 coin tosses. \n",
    "```\n",
    "```\n",
    "If you get exactly 4 heads, you win 30 dollars. \n",
    "```\n",
    "```\n",
    "Otherwise you loss 5 dollars. \n",
    "```\n",
    "```\n",
    "Based on our previous observation, the coin is biased. The chance of getting head is approximately 0.4. \n",
    "```\n",
    "Now you need to think about if you want to play it or not. "
   ]
  },
  {
   "cell_type": "markdown",
   "id": "425f8583",
   "metadata": {},
   "source": [
    "### 1.1 \n",
    "\n",
    "You recall that binomial distribution is commonly used to determine the probability of observing a specified number of successful outcomes in a specified number of trials. The equation for pdf of binomial distribution is: \n",
    "\n",
    "\\begin{equation*}\n",
    "P(X = k) = \\frac{n!}{k!(n-k)!}p^k(1-p)^{n-k}\n",
    "\\end{equation*}\n",
    "\n",
    "Where \n",
    "```\n",
    "k: Number of successful trials\n",
    "n: Total number of trials\n",
    "p: Probability of success in one trial\n",
    "```\n",
    "\n",
    "Create a functon to calculate the pdf of a binomial distribution\n",
    "\n",
    "```\n",
    "Function name: binomial_p\n",
    "```\n",
    "```\n",
    "Input: n, k, p\n",
    "```\n",
    "```\n",
    "Output: pdf of a binomial distribution\n",
    "```\n",
    "```\n",
    "Example: binomial_p(10, 2, 0.4) = 0.12093235199999998\n",
    "```"
   ]
  },
  {
   "cell_type": "code",
   "execution_count": null,
   "id": "bf70d1bf",
   "metadata": {},
   "outputs": [],
   "source": []
  },
  {
   "cell_type": "markdown",
   "id": "46c415b0",
   "metadata": {},
   "source": [
    "### 1.2 \n",
    "\n",
    "Now you want to use the function to calculate the probabilities of \n",
    "1. Winning the bet\n",
    "2. Losing the bet"
   ]
  },
  {
   "cell_type": "markdown",
   "id": "0cf77bdd",
   "metadata": {},
   "source": [
    "The chance of winning the bet:"
   ]
  },
  {
   "cell_type": "code",
   "execution_count": null,
   "id": "2e10d66a",
   "metadata": {},
   "outputs": [],
   "source": []
  },
  {
   "cell_type": "markdown",
   "id": "e96f28b3",
   "metadata": {},
   "source": [
    "The chance of losing the bet:"
   ]
  },
  {
   "cell_type": "code",
   "execution_count": null,
   "id": "f7055864",
   "metadata": {},
   "outputs": [],
   "source": []
  },
  {
   "cell_type": "markdown",
   "id": "a16fbf95",
   "metadata": {},
   "source": [
    "### 1.3\n",
    "\n",
    "Would you expect yourself earning or losing money in the game?\n",
    "\n",
    "\\*Hint: What is the expected outcome"
   ]
  },
  {
   "cell_type": "code",
   "execution_count": null,
   "id": "054d4449",
   "metadata": {},
   "outputs": [],
   "source": []
  },
  {
   "cell_type": "markdown",
   "id": "c15b75ac",
   "metadata": {},
   "source": [
    "### 1.4\n",
    "\n",
    "1. What if you need to get exactly 3 heads to win the game? What are the probabilities of winning and losing? \n",
    "\n",
    "2. Would you expect yourself earning or losing money in this case?"
   ]
  },
  {
   "cell_type": "code",
   "execution_count": null,
   "id": "7d406d7c",
   "metadata": {},
   "outputs": [],
   "source": []
  },
  {
   "cell_type": "code",
   "execution_count": null,
   "id": "d655dc66",
   "metadata": {},
   "outputs": [],
   "source": []
  },
  {
   "cell_type": "markdown",
   "id": "f1450094",
   "metadata": {},
   "source": [
    "# Question 2\n",
    "### (Chi-Square) Complete the following exercises \n"
   ]
  },
  {
   "cell_type": "markdown",
   "id": "a90dd09d",
   "metadata": {},
   "source": [
    "#### Run the following three cells to define x, y_true, noise, and y_oberved\n",
    "\n",
    "1. x = 0:1:10\n",
    "2. y_true = 4x - 2\n",
    "3. noise = N(0, $\\sigma$ = 3)\n",
    "4. y_observed = y_true + noise\n"
   ]
  },
  {
   "cell_type": "code",
   "execution_count": 186,
   "id": "0ac3dc6e",
   "metadata": {},
   "outputs": [
    {
     "name": "stderr",
     "output_type": "stream",
     "text": [
      "\u001b[32m\u001b[1m   Resolving\u001b[22m\u001b[39m package versions...\n",
      "\u001b[32m\u001b[1m  No Changes\u001b[22m\u001b[39m to `~/.julia/environments/v1.7/Project.toml`\n",
      "\u001b[32m\u001b[1m  No Changes\u001b[22m\u001b[39m to `~/.julia/environments/v1.7/Manifest.toml`\n"
     ]
    }
   ],
   "source": [
    "import Pkg\n",
    "Pkg.add([\"Distributions\", \"Plots\", \"Polynomials\", \"Random\", \"Statistics\"])"
   ]
  },
  {
   "cell_type": "code",
   "execution_count": 187,
   "id": "325c3dfc",
   "metadata": {},
   "outputs": [],
   "source": [
    "import Distributions as di\n",
    "import Plots\n",
    "import Polynomials\n",
    "import Random\n",
    "import Statistics"
   ]
  },
  {
   "cell_type": "code",
   "execution_count": null,
   "id": "dee10682-0454-42d2-bf06-af30bcdb1bd9",
   "metadata": {},
   "outputs": [],
   "source": [
    "x = 0:1:10\n",
    "y_true = 4 .* x .- 2\n",
    "sigma = 3\n",
    "noise = Random.rand(di.Normal(0,sigma),length(x))\n",
    "y_observed = y_true .+ noise;"
   ]
  },
  {
   "cell_type": "markdown",
   "id": "2d855477",
   "metadata": {},
   "source": [
    "### 2.1\n",
    "\n",
    "1. Fit the data with a first order polynomial\n",
    "2. Store the coefficients of the fitted polynomial in fit_coeff"
   ]
  },
  {
   "cell_type": "code",
   "execution_count": null,
   "id": "bc12f94f",
   "metadata": {
    "scrolled": true
   },
   "outputs": [],
   "source": []
  },
  {
   "cell_type": "markdown",
   "id": "e2e88477",
   "metadata": {},
   "source": [
    "### 2.2\n",
    "\n",
    "Given $\\chi^2$ defined as:\n",
    "$$\\chi^{2}=\\sum_{i}^{N}{\\frac{(y_{i}-f(x_{i},\\theta))^2}{\\sigma_{i}^2}}$$\n",
    "\n",
    "Create a function to calculate Chi-square value for the $1^{st}$ order polynomial fit\n",
    "\n",
    "```\n",
    "Function name: chisqr\n",
    "```\n",
    "```\n",
    "Input: b, m, x, y_observed, sigma\n",
    "```\n",
    "```\n",
    "m and b are the coefficients in the first order polynomial in which m * x + b = y_fit\n",
    "```\n",
    "```\n",
    "Output: Chi-square value of the polynomial model\n",
    "```"
   ]
  },
  {
   "cell_type": "code",
   "execution_count": null,
   "id": "cae4b725",
   "metadata": {},
   "outputs": [],
   "source": []
  },
  {
   "cell_type": "markdown",
   "id": "040ab4a4",
   "metadata": {},
   "source": [
    "### 2.3\n",
    "\n",
    "\\* Don't define random seed anywhere in the notebook\n",
    "1. Create a empty list chi2_list\n",
    "2. Use a for/while loop to run through the data simulation and model fitting (as done in the previous steps) 10000 times\n",
    "3. In each iteration, calculate the Chi-square value for the fitted model and add it to the chi2_list\n"
   ]
  },
  {
   "cell_type": "code",
   "execution_count": null,
   "id": "43bfeedb",
   "metadata": {},
   "outputs": [],
   "source": []
  },
  {
   "cell_type": "markdown",
   "id": "c128339c",
   "metadata": {},
   "source": [
    "### 2.4\n",
    "\n",
    "1. Calculate the mean of chi2_list\n",
    "2. Explain if the mean value (degree of freedom) make sense or not\n"
   ]
  },
  {
   "cell_type": "code",
   "execution_count": null,
   "id": "16d7f492",
   "metadata": {
    "scrolled": true
   },
   "outputs": [],
   "source": []
  },
  {
   "cell_type": "markdown",
   "id": "57ced9dd",
   "metadata": {},
   "source": []
  },
  {
   "cell_type": "markdown",
   "id": "046892f1",
   "metadata": {},
   "source": [
    "### 2.5\n",
    "\n",
    "1. Define a Chi-square distribution using the Degree of freedom from 2.4\n",
    "2. Generate x_dist = 0:0.1:40\n",
    "3. Calculate pdf of the Chi-square distribution using x_dist\n",
    "4. Plot the chi2_list in a histogram with bin = 50 \n",
    "5. Plot the pdf on top of the chi2_list histogram "
   ]
  },
  {
   "cell_type": "code",
   "execution_count": null,
   "id": "3de69f97",
   "metadata": {},
   "outputs": [],
   "source": []
  },
  {
   "cell_type": "markdown",
   "id": "a6d61ce7",
   "metadata": {},
   "source": [
    "### 2.6\n",
    "\n",
    "Given the likelihood is:\n",
    "$$P(\\{y_{i}(x_{i})\\}\\mid \\theta)\\propto \\exp\\big(-\\frac{\\chi^2}{2}\\big)$$\n",
    "\n",
    "1. Run the following cell to create a function to calculate the likelihood (make sure you named the variables as asked in the previous questions)\n",
    "2. Define m_range = 1:0.01:8\n",
    "3. Define b_range = -9:0.01:10\n",
    "4. Make a contour plot to visualize the distribution of the likelihood\n"
   ]
  },
  {
   "cell_type": "code",
   "execution_count": null,
   "id": "9e31d371",
   "metadata": {},
   "outputs": [],
   "source": [
    "chi2poly(b, m) = chisqr(b, m, x, y_observed, sigma)\n",
    "p_chi2poly(b, m) = exp(-chi2poly(b, m)/2);"
   ]
  },
  {
   "cell_type": "code",
   "execution_count": null,
   "id": "59e744a8",
   "metadata": {},
   "outputs": [],
   "source": []
  },
  {
   "cell_type": "markdown",
   "id": "fbdc910a",
   "metadata": {},
   "source": [
    "### 2.7\n",
    "\n",
    "1. Redefine x = 0:0.5:4 and update y_observed. Plot the likelihood with the new x, y_observed and explain how the plot is different from 2.6\n",
    "2. Redefine x = 0:2:20 and update y_observed. Plot the likelihood with the new x, y_observed and explain how the plot is different from 2.6"
   ]
  },
  {
   "cell_type": "code",
   "execution_count": null,
   "id": "55a82a55",
   "metadata": {},
   "outputs": [],
   "source": []
  },
  {
   "cell_type": "markdown",
   "id": "13c0cfb2",
   "metadata": {},
   "source": []
  },
  {
   "cell_type": "code",
   "execution_count": null,
   "id": "d1028489",
   "metadata": {},
   "outputs": [],
   "source": []
  },
  {
   "cell_type": "markdown",
   "id": "cf49354e",
   "metadata": {},
   "source": []
  },
  {
   "cell_type": "markdown",
   "id": "00eb3d9e",
   "metadata": {},
   "source": [
    "### 2.8\n",
    "\n",
    "Change x back to x = 0:1:10\n",
    "\n",
    "1. Redefine sigma = 6 and update y_observed. Plot the likelihood with the new y_observed and explain how the plot is different from 2.6\n",
    "2. Redefine sigma = 1.5 and update y_observed. Plot the likelihood with the new y_observed and explain how the plot is different from 2.6"
   ]
  },
  {
   "cell_type": "code",
   "execution_count": null,
   "id": "97327480",
   "metadata": {},
   "outputs": [],
   "source": []
  },
  {
   "cell_type": "markdown",
   "id": "04b13298",
   "metadata": {},
   "source": []
  },
  {
   "cell_type": "code",
   "execution_count": null,
   "id": "0bad212f",
   "metadata": {},
   "outputs": [],
   "source": []
  },
  {
   "cell_type": "markdown",
   "id": "7fb95b7a",
   "metadata": {},
   "source": []
  }
 ],
 "metadata": {
  "kernelspec": {
   "display_name": "Julia 1.11.3",
   "language": "julia",
   "name": "julia-1.11"
  },
  "language_info": {
   "file_extension": ".jl",
   "mimetype": "application/julia",
   "name": "julia",
   "version": "1.11.3"
  }
 },
 "nbformat": 4,
 "nbformat_minor": 5
}
