{
 "cells": [
  {
   "cell_type": "code",
   "execution_count": null,
   "id": "d6351ce1-b759-4ae0-92c2-a1608e5af228",
   "metadata": {},
   "outputs": [],
   "source": [
    "println(\"Hello, world!\")\n",
    "2 + 2"
   ]
  },
  {
   "cell_type": "code",
   "execution_count": null,
   "id": "68fb3b12-382a-4006-ad01-67a6362adac1",
   "metadata": {},
   "outputs": [],
   "source": []
  }
 ],
 "metadata": {
  "kernelspec": {
   "display_name": "Julia 1.11.3",
   "language": "julia",
   "name": "julia-1.11"
  },
  "language_info": {
   "name": ""
  }
 },
 "nbformat": 4,
 "nbformat_minor": 5
}
