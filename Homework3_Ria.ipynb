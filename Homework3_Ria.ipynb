{
 "cells": [
  {
   "cell_type": "markdown",
   "id": "1fbe377b",
   "metadata": {},
   "source": [
    "<h1>Homework 3</h1>"
   ]
  },
  {
   "cell_type": "markdown",
   "id": "79813e24",
   "metadata": {},
   "source": [
    "# Question 1\n",
    "### (Bayes Theorem) Read the following example and complete the exercises \n",
    "\n",
    "Trolls Under the Bridge\n",
    "1. Trolls(T) are bad\n",
    "2. Gnomes(G) are benign\n",
    "3. Every bridge has 5 creatures under it\n",
    "\n",
    "Below are the probabilities of what creatures live under a bridge:\n",
    "1. TTGGG: 25% (E1)\n",
    "2. TGGGG: 25% (E2)\n",
    "3. GGGGG: 50% (E3)\n",
    "\n",
    "A knight is approaching a bridge and he wants to know his chance of crossing the bridge safely."
   ]
  },
  {
   "cell_type": "markdown",
   "id": "425f8583",
   "metadata": {},
   "source": [
    "### 1.1 \n",
    "\n",
    "#### What is the chance of the knight crossing the bridge safely?\n"
   ]
  },
  {
   "cell_type": "code",
   "execution_count": null,
   "id": "29bea308",
   "metadata": {},
   "outputs": [],
   "source": []
  },
  {
   "cell_type": "markdown",
   "id": "61f687e4",
   "metadata": {},
   "source": [
    "### 1.2\n",
    "\n",
    "#### Before crossing a bridge, a knight captures a troll. “I now have an 75% chance of crossing safely,” he reasons, “since only the case 25% had TTGGG (E1) now have TGGG is still a threat.”\n",
    "\n",
    "#### Do you agree with him? Why?"
   ]
  },
  {
   "cell_type": "markdown",
   "id": "09025213",
   "metadata": {},
   "source": []
  },
  {
   "cell_type": "markdown",
   "id": "c1533b67",
   "metadata": {},
   "source": [
    "### 1.3\n",
    "\n",
    "#### Now he wants to use Bayes' theorem to calculate his chance of crossing safely given a troll captured \n",
    "\n",
    "\\begin{equation*}\n",
    "P(A|B) = \\frac{P(B|A)P(A)}{P(B)} \\\\\n",
    "P(A|B): Posteior \\\\\n",
    "P(B|A): Likelihood \\\\\n",
    "P(A): Prior \\\\\n",
    "P(B): Marginal Probability \\\\\n",
    "\\end{equation*}\n",
    "\n",
    "#### Given the three events, E1, E2, and E3, which two of the three events does the knight need to consider after a troll was captured?"
   ]
  },
  {
   "cell_type": "markdown",
   "id": "0adb7f0a",
   "metadata": {},
   "source": []
  },
  {
   "cell_type": "markdown",
   "id": "e45e8fa6",
   "metadata": {},
   "source": [
    "### 1.4\n",
    "\n",
    "#### Use Bayes' theorem to calculate the probability of the two events in 1.3 (separately) given the troll was captured. "
   ]
  },
  {
   "cell_type": "markdown",
   "id": "5d9c3c0b",
   "metadata": {},
   "source": [
    "Probability of one event given a troll captured: "
   ]
  },
  {
   "cell_type": "code",
   "execution_count": null,
   "id": "f2f0e7c8",
   "metadata": {},
   "outputs": [],
   "source": []
  },
  {
   "cell_type": "markdown",
   "id": "37843aee",
   "metadata": {},
   "source": [
    "Probability of the other event given a troll captured: "
   ]
  },
  {
   "cell_type": "code",
   "execution_count": null,
   "id": "5db10bc7",
   "metadata": {},
   "outputs": [],
   "source": []
  },
  {
   "cell_type": "markdown",
   "id": "f3b7f049",
   "metadata": {},
   "source": [
    "### 1.5\n",
    "\n",
    "#### What is the chance of the knight crossing safely?"
   ]
  },
  {
   "cell_type": "code",
   "execution_count": null,
   "id": "0f6fd73b",
   "metadata": {},
   "outputs": [],
   "source": []
  },
  {
   "cell_type": "markdown",
   "id": "7b815ae0",
   "metadata": {},
   "source": [
    "#### Now looking back to 1.1, the probabilities were changed after assimilating data! "
   ]
  },
  {
   "cell_type": "markdown",
   "id": "f1450094",
   "metadata": {},
   "source": [
    "# Question 2\n",
    "### (Polynomial Fitting) Read the following example and complete the exercises \n",
    "\n",
    "Biological data always comes with errors that influence the intepretation of the data significantly. In this question, we will simulate data and see how noises affect the parameter estimation."
   ]
  },
  {
   "cell_type": "code",
   "execution_count": null,
   "id": "c20822fa",
   "metadata": {},
   "outputs": [],
   "source": [
    "import Pkg\n",
    "Pkg.activate(\".\")\n",
    "Pkg.add([\"Distributions\", \"Plots\", \"Polynomials\", \"Random\"])"
   ]
  },
  {
   "cell_type": "code",
   "execution_count": null,
   "id": "d7d1ca8d",
   "metadata": {},
   "outputs": [],
   "source": [
    "import Distributions as di\n",
    "import Plots\n",
    "import Polynomials\n",
    "import Random"
   ]
  },
  {
   "cell_type": "markdown",
   "id": "a90dd09d",
   "metadata": {},
   "source": [
    "### 2.1\n",
    "\n",
    "1. Generate the independent variable x ranging from -10 to 10 with an increment of 1\n",
    "2. Generate the dependent variable y_true using the equation y_true = x^2 + 4x - 2\n"
   ]
  },
  {
   "cell_type": "code",
   "execution_count": null,
   "id": "6b0b33c5",
   "metadata": {},
   "outputs": [],
   "source": []
  },
  {
   "cell_type": "markdown",
   "id": "74d2a191",
   "metadata": {},
   "source": [
    "### 2.2\n",
    "\n",
    "1. Generate the Guassian noises with zero mean and a standard deviation of 10\n",
    "\n",
    "2. Add the noises to y_true to obtain y_observed\n"
   ]
  },
  {
   "cell_type": "code",
   "execution_count": null,
   "id": "7936417a",
   "metadata": {},
   "outputs": [],
   "source": []
  },
  {
   "cell_type": "markdown",
   "id": "ecf2e554",
   "metadata": {},
   "source": [
    "### 2.3\n",
    "\n",
    "#### Fit the data (x, y_observed) with a second order polynomial. \n",
    "\n",
    "1. Make a scatter plot of y_observed along x\n",
    "2. Plot a line of y_true along x on the scatter plot\n",
    "3. Plot a line of the fitted polynomial along x on the same plot"
   ]
  },
  {
   "cell_type": "code",
   "execution_count": null,
   "id": "d39a136b",
   "metadata": {},
   "outputs": [],
   "source": []
  },
  {
   "cell_type": "markdown",
   "id": "b3b5a343",
   "metadata": {},
   "source": [
    "### 2.4\n",
    "\n",
    "1. Repeat 2.2 and 2.3 with a noise with a standard deviation of 40"
   ]
  },
  {
   "cell_type": "code",
   "execution_count": null,
   "id": "b4c08499",
   "metadata": {},
   "outputs": [],
   "source": []
  },
  {
   "cell_type": "markdown",
   "id": "ab12acbd",
   "metadata": {},
   "source": [
    "2. Compare the plot with the plot in 2.3. Is the fit closer to y_true or not, and why?"
   ]
  },
  {
   "cell_type": "markdown",
   "id": "a34fcca4",
   "metadata": {},
   "source": []
  },
  {
   "cell_type": "markdown",
   "id": "5fd1d93b",
   "metadata": {},
   "source": [
    "### 2.5\n",
    "\n",
    "#### Repeat 2.2 and 2.3 with a tenth order polynomial fit\n"
   ]
  },
  {
   "cell_type": "code",
   "execution_count": null,
   "id": "b6dbd546",
   "metadata": {},
   "outputs": [],
   "source": []
  },
  {
   "cell_type": "markdown",
   "id": "36028ee0",
   "metadata": {},
   "source": [
    "### 2.6\n",
    "\n",
    "1. Create a new independent parameter x_fit ranging from -11 to 11 with an increment of 0.2\n",
    "2. Plot the same three plots as in 2.3 again but apply the tenth order polynomial to x_fit instead of x\n"
   ]
  },
  {
   "cell_type": "code",
   "execution_count": null,
   "id": "6c67a977",
   "metadata": {},
   "outputs": [],
   "source": []
  },
  {
   "cell_type": "markdown",
   "id": "bbcb4ef4",
   "metadata": {},
   "source": [
    "3. What do you observe in the plot? What is this phenomenon called?"
   ]
  },
  {
   "cell_type": "markdown",
   "id": "49a085b1",
   "metadata": {},
   "source": []
  }
 ],
 "metadata": {
  "kernelspec": {
   "display_name": "Julia 1.11.3",
   "language": "julia",
   "name": "julia-1.11"
  },
  "language_info": {
   "file_extension": ".jl",
   "mimetype": "application/julia",
   "name": "julia",
   "version": "1.11.3"
  }
 },
 "nbformat": 4,
 "nbformat_minor": 5
}
