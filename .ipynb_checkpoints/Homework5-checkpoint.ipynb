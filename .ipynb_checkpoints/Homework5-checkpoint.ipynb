{
 "cells": [
  {
   "cell_type": "markdown",
   "id": "1fbe377b",
   "metadata": {},
   "source": [
    "<h1>HW5</h1>"
   ]
  },
  {
   "cell_type": "markdown",
   "id": "7151419f",
   "metadata": {},
   "source": [
    "# Question 1\n",
    "### (Beta Distribution) Complete the following exercises "
   ]
  },
  {
   "cell_type": "markdown",
   "id": "00367d25",
   "metadata": {},
   "source": [
    "### 1.1 \n",
    "\n",
    "Create a function to calculate the probability density function (PDF) of  beta distribution:\n",
    "\n",
    "\\begin{equation*}\n",
    "f(x;\\alpha,\\beta) = \\frac{\\Gamma(\\alpha+\\beta)}{\\Gamma(\\alpha)\\Gamma(\\beta)}x^{\\alpha-1}(1-x)^{\\beta-1}\n",
    "\\end{equation*}\n",
    "\n",
    "\n",
    "* Function name: pdf_beta\n",
    "\n",
    "* Input: $\\alpha$, $\\beta$, x\n",
    "\n",
    "* Output: f(x;$\\alpha$,$\\beta$)\n",
    "\n",
    "* Use SpecialFunctions.gamma() for the gamma function\n"
   ]
  },
  {
   "cell_type": "code",
   "execution_count": 12,
   "id": "137bc2e7",
   "metadata": {},
   "outputs": [
    {
     "name": "stderr",
     "output_type": "stream",
     "text": [
      "\u001b[32m\u001b[1m   Resolving\u001b[22m\u001b[39m package versions...\n",
      "\u001b[32m\u001b[1m  No Changes\u001b[22m\u001b[39m to `~/.julia/environments/v1.7/Project.toml`\n",
      "\u001b[32m\u001b[1m  No Changes\u001b[22m\u001b[39m to `~/.julia/environments/v1.7/Manifest.toml`\n"
     ]
    }
   ],
   "source": [
    "import Pkg\n",
    "Pkg.add([\"SpecialFunctions\", \"Plots\"])"
   ]
  },
  {
   "cell_type": "code",
   "execution_count": 13,
   "id": "cff81c75",
   "metadata": {},
   "outputs": [],
   "source": [
    "import SpecialFunctions\n",
    "import Plots"
   ]
  },
  {
   "cell_type": "code",
   "execution_count": null,
   "id": "11c0b4ad",
   "metadata": {},
   "outputs": [],
   "source": []
  },
  {
   "cell_type": "markdown",
   "id": "3e284e4a",
   "metadata": {},
   "source": [
    "### 1.2\n",
    "\n",
    "1. Create a x from 0 to 1 with increment of 0.001 as the probability of event. \n",
    "2. Create $\\alpha$ = 0.5 and $\\beta$ = 0.5\n",
    "3. Calculate the pdf of the beta distribution over x \n",
    "4. Plot pdf vs. x\n",
    "5. What is the shape of the beta distribution"
   ]
  },
  {
   "cell_type": "code",
   "execution_count": null,
   "id": "3bcb109a",
   "metadata": {},
   "outputs": [],
   "source": []
  },
  {
   "cell_type": "markdown",
   "id": "f16b469a",
   "metadata": {},
   "source": []
  },
  {
   "cell_type": "markdown",
   "id": "da25327c",
   "metadata": {},
   "source": [
    "### 1.3\n",
    "\n",
    "1. Change $\\alpha$ = 1 and $\\beta$ = 1\n",
    "2. Calculate the pdf of the beta distribution over x \n",
    "3. Plot pdf vs. x\n",
    "4. What is the shape of the beta distribution"
   ]
  },
  {
   "cell_type": "code",
   "execution_count": null,
   "id": "02f7d2e4",
   "metadata": {},
   "outputs": [],
   "source": []
  },
  {
   "cell_type": "markdown",
   "id": "90926e05",
   "metadata": {},
   "source": []
  },
  {
   "cell_type": "markdown",
   "id": "e22eec43",
   "metadata": {},
   "source": [
    "### 1.4\n",
    "\n",
    "1. Change $\\alpha$ = 5 and $\\beta$ = 5\n",
    "2. Calculate the pdf of the beta distribution over x \n",
    "3. Plot pdf vs. x\n",
    "4. What is the shape of the beta distribution"
   ]
  },
  {
   "cell_type": "code",
   "execution_count": null,
   "id": "ffe99096",
   "metadata": {},
   "outputs": [],
   "source": []
  },
  {
   "cell_type": "markdown",
   "id": "c3c507ab",
   "metadata": {},
   "source": []
  },
  {
   "cell_type": "markdown",
   "id": "f178fa2c",
   "metadata": {},
   "source": [
    "### 1.5\n",
    "\n",
    "#### Assume we are using the beta distribution from 1.4 as our prior distribution for a coin flipping experiment to calculate the true distribution of flipping the coin (posterior distribution).\n",
    "\n",
    "Given the experiment results in 6 heads in 10 trials.\n",
    "\n",
    "1. Calculate the pdf of the posterior distribution given the prior and the results.\n",
    "2. Plot pdf of the prior distribution in the same plot\n",
    "3. Describe how the distribution is changed after the data came in"
   ]
  },
  {
   "cell_type": "code",
   "execution_count": null,
   "id": "668b3246",
   "metadata": {},
   "outputs": [],
   "source": []
  },
  {
   "cell_type": "markdown",
   "id": "01d0bbdf",
   "metadata": {},
   "source": []
  },
  {
   "cell_type": "markdown",
   "id": "79813e24",
   "metadata": {},
   "source": [
    "# Question 2\n",
    "### (LSQFIT) Complete the exercises \n",
    "\n"
   ]
  },
  {
   "cell_type": "markdown",
   "id": "425f8583",
   "metadata": {},
   "source": [
    "### 2.1 \n",
    "\n",
    "\n",
    "The exponential model is given by: \n",
    "$$\n",
    "f(x) = 3* e^x\n",
    "$$\n",
    "\n",
    "where x is defined as the range 0:0.1:1, and y is the experiment data with a measurement error with a standard deviation of 0.2. Follow the notebook LSQFIT_class.ipynb and use it as a template to\n",
    "1) Scatter plot of x vs. experiment data with fitted model (using a initial guess of the parameters of your chosing).\n",
    "2) Calculate the covariance matrix from the Hessian of Chi-square.\n",
    "\n",
    "\n",
    "\n",
    "\n",
    "\n",
    "\n",
    "\n",
    "\n",
    "\n"
   ]
  },
  {
   "cell_type": "markdown",
   "id": "6f3dda2f",
   "metadata": {},
   "source": [
    "### 2.2 \n",
    "Similar to  2.1, repeat the procedure 500 times and calculate the standard deviation of the fitted parameters.  Then compare this standard deviation to the standard deviations that you estimated from the covariance matrix from each fit (you have to think a little about how you average the covariance matrix - give a rationale)."
   ]
  },
  {
   "cell_type": "markdown",
   "id": "54dac510",
   "metadata": {},
   "source": []
  },
  {
   "cell_type": "code",
   "execution_count": null,
   "id": "0e83ead2",
   "metadata": {},
   "outputs": [],
   "source": []
  }
 ],
 "metadata": {
  "kernelspec": {
   "display_name": "Julia 1.11.3",
   "language": "julia",
   "name": "julia-1.11"
  },
  "language_info": {
   "file_extension": ".jl",
   "mimetype": "application/julia",
   "name": "julia",
   "version": "1.11.3"
  }
 },
 "nbformat": 4,
 "nbformat_minor": 5
}
