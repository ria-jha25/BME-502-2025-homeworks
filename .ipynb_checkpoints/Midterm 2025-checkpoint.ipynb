{
 "cells": [
  {
   "cell_type": "markdown",
   "id": "d215c5da-15b4-4fa7-9c46-f66a70fc1809",
   "metadata": {},
   "source": [
    "## Midterm BME 502 2025"
   ]
  },
  {
   "cell_type": "markdown",
   "id": "427d2fd8-4718-470b-acf0-49d28537d269",
   "metadata": {},
   "source": [
    "In this midterm exam, you are tasked to develop a method to tell whether data is better described by a line fit or a sigmoidal fit."
   ]
  },
  {
   "cell_type": "code",
   "execution_count": null,
   "id": "67c13ce5-256a-491a-9ba4-bf74bb16b695",
   "metadata": {},
   "outputs": [],
   "source": [
    "import Pkg\n",
    "Pkg.activate(\".\")"
   ]
  },
  {
   "cell_type": "code",
   "execution_count": null,
   "id": "5db81cf0-9a50-4e27-9dec-da90e8e38230",
   "metadata": {},
   "outputs": [],
   "source": [
    "Pkg.add([\"Plots\",\"Distributions\",\"Random\",\"Statistics\",\"NonlinearSolve\",\"ForwardDiff\"])"
   ]
  },
  {
   "cell_type": "code",
   "execution_count": null,
   "id": "8cb70db7-0496-4df3-97df-0d66d5068c64",
   "metadata": {},
   "outputs": [],
   "source": [
    "using Plots, Distributions, Random, Statistics, NonlinearSolve, ForwardDiff, LinearAlgebra"
   ]
  },
  {
   "cell_type": "code",
   "execution_count": null,
   "id": "f9df96f9-2e4e-44a2-819d-2f599fee9e0a",
   "metadata": {},
   "outputs": [],
   "source": [
    "line_fit(x,p) = p[1] .+ p[2] .* x"
   ]
  },
  {
   "cell_type": "code",
   "execution_count": null,
   "id": "05a2d16d-b1fe-4e89-a85a-4a13ebdb1552",
   "metadata": {},
   "outputs": [],
   "source": [
    "sigmoid_fit(x,p) = p[1] .+ p[2] ./ (1 .+ exp.(-p[3]*(x .- p[4])))"
   ]
  },
  {
   "cell_type": "markdown",
   "id": "9c696120-6a34-4118-a23c-a70e3e7d8796",
   "metadata": {},
   "source": [
    "Let's create some plots to see how these functions look"
   ]
  },
  {
   "cell_type": "code",
   "execution_count": null,
   "id": "b3c68264-636c-4a1b-a985-7bb486c8db0f",
   "metadata": {},
   "outputs": [],
   "source": [
    "x = 0:0.1:10"
   ]
  },
  {
   "cell_type": "code",
   "execution_count": null,
   "id": "91b0f4b8-7853-4714-8fcf-01f398f54e41",
   "metadata": {},
   "outputs": [],
   "source": [
    "y_line = line_fit(x,[2,0.5])"
   ]
  },
  {
   "cell_type": "code",
   "execution_count": null,
   "id": "03c54986-22af-47c6-aaf4-62b29447d89a",
   "metadata": {},
   "outputs": [],
   "source": [
    "y_sigmoid = sigmoid_fit(x,[2.5,3.5,0.1,5.5])"
   ]
  },
  {
   "cell_type": "code",
   "execution_count": null,
   "id": "ee442b35-2a63-45e3-ae60-2b36b7d62fbd",
   "metadata": {},
   "outputs": [],
   "source": [
    "y_line = line_fit(x,[2,0.5])\n",
    "y_sigmoid = sigmoid_fit(x,[2.2,4.7,1,5.0])\n",
    "plot(x, y_line, label = \"line\")\n",
    "plot!(x, y_sigmoid, label = \"sigmoid\")"
   ]
  },
  {
   "cell_type": "markdown",
   "id": "7e0a06dd-360e-4016-a6cb-bbf51be1082f",
   "metadata": {},
   "source": [
    "Let us add some serious noise to it"
   ]
  },
  {
   "cell_type": "code",
   "execution_count": null,
   "id": "1c9427d0-03c8-4554-825e-f92e729dc58f",
   "metadata": {},
   "outputs": [],
   "source": [
    "nd = Normal(0,5)\n",
    "x_line = 10*rand(200)\n",
    "y_line_n = line_fit(x_line,[2,0.5]) .+ rand(nd,length(x_line))\n",
    "x_sigmoid = 10*rand(200)\n",
    "y_sigmoid_n = sigmoid_fit(x_sigmoid,[2.2,4.7,1,5.0]) .+ rand(nd,length(x_sigmoid))"
   ]
  },
  {
   "cell_type": "code",
   "execution_count": null,
   "id": "edf2ecad-1c33-477c-a7a2-fa8a3937253e",
   "metadata": {},
   "outputs": [],
   "source": [
    "plot(x, y_line, label = \"line\")\n",
    "scatter!(x_line, y_line_n, label = \"line data\")"
   ]
  },
  {
   "cell_type": "code",
   "execution_count": null,
   "id": "9d292b9b-6221-48bc-93fb-f8cee18a871c",
   "metadata": {},
   "outputs": [],
   "source": [
    "plot(x, y_sigmoid, label = \"sigmoid\")\n",
    "scatter!(x_sigmoid, y_sigmoid_n, label = \"data\")"
   ]
  },
  {
   "cell_type": "code",
   "execution_count": null,
   "id": "18aa2fb3-b927-49a2-9b26-58f7b4c2c2de",
   "metadata": {},
   "outputs": [],
   "source": [
    "# let's plot it all together\n",
    "plot(x, y_line, label = \"line\")\n",
    "scatter!(x_line, y_line_n, label = \"line data\")\n",
    "plot!(x, y_sigmoid, label = \"sigmoid\")\n",
    "scatter!(x_sigmoid, y_sigmoid_n, label = \"sigmoid data\")"
   ]
  },
  {
   "cell_type": "markdown",
   "id": "9b5c671f-7b6c-4b75-9c52-37358401c8f0",
   "metadata": {},
   "source": [
    "# Question:\n",
    "\n",
    "If you take the sigmoid data, which fit is better? The linear or sigmoid?\n",
    "\n",
    "How uncertain are the parameters?\n",
    "\n",
    "At what noise level are the two fits equally likely?"
   ]
  },
  {
   "cell_type": "markdown",
   "id": "dbf30f75-0dda-4a8e-9828-556ffc5af2d2",
   "metadata": {},
   "source": [
    "# Part 1 (20 points)\n",
    "Create a function line_fitting(x,y; sigma=[]) that returns the best parameters and the covariance matrix.  The standard deviation of the measurement error, sigma, can be supplied as a number (assuming that all measurements share the same error) or as a vector with the same length as y. If sigma (standard deviation of measurement error) is not specified (sigma=[]), estimate the measurement error using the sum of least squares to estimate $\\mathcal{X}^2$."
   ]
  },
  {
   "cell_type": "code",
   "execution_count": null,
   "id": "4bf22402-a935-4086-84ac-b4036afd8f36",
   "metadata": {},
   "outputs": [],
   "source": []
  },
  {
   "cell_type": "markdown",
   "id": "a47c76ec-e949-482e-adf3-a95ea8673265",
   "metadata": {},
   "source": [
    "# Part 2 (20 points)\n",
    "Similarily, create a function sigmoid_fitting(x,y; sigma=[]) that returns the best parameters and the covariance matrix. Treat sigma the same way as in Part 1."
   ]
  },
  {
   "cell_type": "code",
   "execution_count": null,
   "id": "7a72eef2-17c6-4ce7-9d47-976359e1e354",
   "metadata": {},
   "outputs": [],
   "source": []
  },
  {
   "cell_type": "markdown",
   "id": "4b6a0cff-b3a5-4e34-b9e1-fb4953ef4dae",
   "metadata": {},
   "source": [
    "# Part 3 (30 points)\n",
    "Create a function p_ratio_sig_line(x,y; sigma=[]) that returns the Posterior ratio between a fit to a sigmoid and to a line.  Treat sigma the same way as in Part 1-2."
   ]
  },
  {
   "cell_type": "code",
   "execution_count": null,
   "id": "7a96e961-d2c0-456d-b753-d9961a735bae",
   "metadata": {},
   "outputs": [],
   "source": []
  },
  {
   "cell_type": "markdown",
   "id": "7e02ec20-71fe-4e78-9dc4-ff16b7d55e55",
   "metadata": {},
   "source": [
    "# Part 4 (30 points)\n",
    "Create a function sig_p_ratio_is_one(x,y; sigma=[]) that returns the measurement error (either as a number or array depending on how the sigma is supplied) that would result in a posterior ratio between sigmoid and line of one. If sigma is not provided (sigma=[]), proceed as in Part 1-3."
   ]
  },
  {
   "cell_type": "code",
   "execution_count": null,
   "id": "4ff38eee-14a7-49bc-b562-d04c904dc7bb",
   "metadata": {},
   "outputs": [],
   "source": []
  },
  {
   "cell_type": "markdown",
   "id": "a16fcae5-d30d-4949-80bd-7b6296339969",
   "metadata": {},
   "source": [
    "## Programming Advice:\n",
    "To make your program more efficient you should think about creating functions that provide information that you can use for all of the parts.  Don't write each function individually, but think what are the common task that need to be done, and then call these more general functions, to get you the result for the specific questions.  I will reward good programming style with a bonus 10 points total."
   ]
  },
  {
   "cell_type": "code",
   "execution_count": null,
   "id": "b2031104-7374-4f89-87ee-e715097abe98",
   "metadata": {},
   "outputs": [],
   "source": []
  }
 ],
 "metadata": {
  "kernelspec": {
   "display_name": "Julia 1.11.3",
   "language": "julia",
   "name": "julia-1.11"
  },
  "language_info": {
   "file_extension": ".jl",
   "mimetype": "application/julia",
   "name": "julia",
   "version": "1.11.3"
  }
 },
 "nbformat": 4,
 "nbformat_minor": 5
}
