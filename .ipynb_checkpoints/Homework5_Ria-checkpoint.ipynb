{
 "cells": [
  {
   "cell_type": "markdown",
   "id": "71e6ef3e-cdf6-4cf1-979e-788f56e879d8",
   "metadata": {
    "jp-MarkdownHeadingCollapsed": true
   },
   "source": [
    "<h1>HW5</h1>"
   ]
  },
  {
   "cell_type": "markdown",
   "id": "7151419f",
   "metadata": {},
   "source": [
    "# Question 1\n",
    "### (Beta Distribution) Complete the following exercises "
   ]
  },
  {
   "cell_type": "markdown",
   "id": "00367d25",
   "metadata": {},
   "source": [
    "### 1.1 \n",
    "\n",
    "Create a function to calculate the probability density function (PDF) of  beta distribution:\n",
    "\n",
    "\\begin{equation*}\n",
    "f(x;\\alpha,\\beta) = \\frac{\\Gamma(\\alpha+\\beta)}{\\Gamma(\\alpha)\\Gamma(\\beta)}x^{\\alpha-1}(1-x)^{\\beta-1}\n",
    "\\end{equation*}\n",
    "\n",
    "\n",
    "* Function name: pdf_beta\n",
    "\n",
    "* Input: $\\alpha$, $\\beta$, x\n",
    "\n",
    "* Output: f(x;$\\alpha$,$\\beta$)\n",
    "\n",
    "* Use SpecialFunctions.gamma() for the gamma function\n"
   ]
  },
  {
   "cell_type": "code",
   "execution_count": 1,
   "id": "137bc2e7",
   "metadata": {},
   "outputs": [
    {
     "ename": "ModuleNotFoundError",
     "evalue": "No module named 'Pkg'",
     "output_type": "error",
     "traceback": [
      "\u001b[1;31m---------------------------------------------------------------------------\u001b[0m",
      "\u001b[1;31mModuleNotFoundError\u001b[0m                       Traceback (most recent call last)",
      "Cell \u001b[1;32mIn[1], line 1\u001b[0m\n\u001b[1;32m----> 1\u001b[0m \u001b[38;5;28;01mimport\u001b[39;00m\u001b[38;5;250m \u001b[39m\u001b[38;5;21;01mPkg\u001b[39;00m\n\u001b[0;32m      2\u001b[0m Pkg\u001b[38;5;241m.\u001b[39madd([\u001b[38;5;124m\"\u001b[39m\u001b[38;5;124mSpecialFunctions\u001b[39m\u001b[38;5;124m\"\u001b[39m, \u001b[38;5;124m\"\u001b[39m\u001b[38;5;124mPlots\u001b[39m\u001b[38;5;124m\"\u001b[39m])\n",
      "\u001b[1;31mModuleNotFoundError\u001b[0m: No module named 'Pkg'"
     ]
    }
   ],
   "source": [
    "import Pkg\n",
    "Pkg.add([\"SpecialFunctions\", \"Plots\"])"
   ]
  },
  {
   "cell_type": "code",
   "execution_count": null,
   "id": "cff81c75",
   "metadata": {},
   "outputs": [],
   "source": [
    "import SpecialFunctions\n",
    "import Plots"
   ]
  },
  {
   "cell_type": "code",
   "execution_count": null,
   "id": "11c0b4ad",
   "metadata": {},
   "outputs": [],
   "source": [
    "import SpecialFunctions\n",
    "\n",
    "function pdf_beta(x, α, β)\n",
    "    if x < 0 || x > 1\n",
    "        error(\"x must be between 0 and 1\")\n",
    "    end\n",
    "    numerator = SpecialFunctions.gamma(α + β)\n",
    "    denominator = SpecialFunctions.gamma(α) * SpecialFunctions.gamma(β)\n",
    "    return (numerator / denominator) * x^(α - 1) * (1 - x)^(β - 1)\n",
    "end\n"
   ]
  },
  {
   "cell_type": "markdown",
   "id": "3e284e4a",
   "metadata": {},
   "source": [
    "### 1.2\n",
    "\n",
    "1. Create a x from 0 to 1 with increment of 0.001 as the probability of event. \n",
    "2. Create $\\alpha$ = 0.5 and $\\beta$ = 0.5\n",
    "3. Calculate the pdf of the beta distribution over x \n",
    "4. Plot pdf vs. x\n",
    "5. What is the shape of the beta distribution"
   ]
  },
  {
   "cell_type": "code",
   "execution_count": null,
   "id": "3bcb109a",
   "metadata": {},
   "outputs": [],
   "source": [
    "x = 0:0.001:1\n",
    "α, β = 0.5, 0.5\n",
    "pdf_values = [pdf_beta(xi, α, β) for xi in x]\n",
    "using Plots\n",
    "plot(x, pdf_values, label=\"Beta PDF (α=0.5, β=0.5)\", xlabel=\"x\", ylabel=\"PDF\")"
   ]
  },
  {
   "cell_type": "markdown",
   "id": "f16b469a",
   "metadata": {},
   "source": []
  },
  {
   "cell_type": "markdown",
   "id": "da25327c",
   "metadata": {},
   "source": [
    "### 1.3\n",
    "\n",
    "1. Change $\\alpha$ = 1 and $\\beta$ = 1\n",
    "2. Calculate the pdf of the beta distribution over x \n",
    "3. Plot pdf vs. x\n",
    "4. What is the shape of the beta distribution"
   ]
  },
  {
   "cell_type": "code",
   "execution_count": null,
   "id": "02f7d2e4",
   "metadata": {},
   "outputs": [],
   "source": [
    "α, β = 1, 1\n",
    "pdf_values = [pdf_beta(xi, α, β) for xi in x]\n",
    "plot(x, pdf_values, label=\"Beta PDF (α=1, β=1)\", xlabel=\"x\", ylabel=\"PDF\")"
   ]
  },
  {
   "cell_type": "markdown",
   "id": "90926e05",
   "metadata": {},
   "source": []
  },
  {
   "cell_type": "markdown",
   "id": "e22eec43",
   "metadata": {},
   "source": [
    "### 1.4\n",
    "\n",
    "1. Change $\\alpha$ = 5 and $\\beta$ = 5\n",
    "2. Calculate the pdf of the beta distribution over x \n",
    "3. Plot pdf vs. x\n",
    "4. What is the shape of the beta distribution"
   ]
  },
  {
   "cell_type": "code",
   "execution_count": null,
   "id": "ffe99096",
   "metadata": {},
   "outputs": [],
   "source": [
    "α, β = 5, 5\n",
    "pdf_values = [pdf_beta(xi, α, β) for xi in x]\n",
    "plot(x, pdf_values, label=\"Beta PDF (α=5, β=5)\", xlabel=\"x\", ylabel=\"PDF\")"
   ]
  },
  {
   "cell_type": "markdown",
   "id": "c3c507ab",
   "metadata": {},
   "source": []
  },
  {
   "cell_type": "markdown",
   "id": "f178fa2c",
   "metadata": {},
   "source": [
    "### 1.5\n",
    "\n",
    "#### Assume we are using the beta distribution from 1.4 as our prior distribution for a coin flipping experiment to calculate the true distribution of flipping the coin (posterior distribution).\n",
    "\n",
    "Given the experiment results in 6 heads in 10 trials.\n",
    "\n",
    "1. Calculate the pdf of the posterior distribution given the prior and the results.\n",
    "2. Plot pdf of the prior distribution in the same plot\n",
    "3. Describe how the distribution is changed after the data came in"
   ]
  },
  {
   "cell_type": "code",
   "execution_count": null,
   "id": "668b3246",
   "metadata": {},
   "outputs": [],
   "source": [
    "α_prior, β_prior = 5, 5\n",
    "k, n = 6, 10\n",
    "α_post = α_prior + k\n",
    "β_post = β_prior + (n - k)\n",
    "\n",
    "pdf_prior = [pdf_beta(xi, α_prior, β_prior) for xi in x]\n",
    "pdf_posterior = [pdf_beta(xi, α_post, β_post) for xi in x]\n",
    "\n",
    "plot(x, pdf_prior, label=\"Prior (α=5, β=5)\", xlabel=\"x\", ylabel=\"PDF\")\n",
    "plot!(x, pdf_posterior, label=\"Posterior (α=11, β=9)\")\n"
   ]
  },
  {
   "cell_type": "markdown",
   "id": "01d0bbdf",
   "metadata": {},
   "source": []
  },
  {
   "cell_type": "markdown",
   "id": "79813e24",
   "metadata": {},
   "source": [
    "# Question 2\n",
    "### (LSQFIT) Complete the exercises \n",
    "\n"
   ]
  },
  {
   "cell_type": "markdown",
   "id": "425f8583",
   "metadata": {},
   "source": [
    "### 2.1 \n",
    "\n",
    "\n",
    "The exponential model is given by: \n",
    "$$\n",
    "f(x) = 3* e^x\n",
    "$$\n",
    "\n",
    "where x is defined as the range 0:0.1:1, and y is the experiment data with a measurement error with a standard deviation of 0.2. Follow the notebook LSQFIT_class.ipynb and use it as a template to\n",
    "1) Scatter plot of x vs. experiment data with fitted model (using a initial guess of the parameters of your chosing).\n",
    "2) Calculate the covariance matrix from the Hessian of Chi-square.\n",
    "\n",
    "\n",
    "\n",
    "\n",
    "\n",
    "\n",
    "\n",
    "\n",
    "\n"
   ]
  },
  {
   "cell_type": "code",
   "execution_count": null,
   "id": "fc11a932-033d-4986-ad63-a310af310660",
   "metadata": {},
   "outputs": [],
   "source": [
    "using Random  \n",
    "using Plots   \n",
    "using LSQFit  \n",
    "\n",
    "x = 0:0.1:1 \n",
    "true_model(x) = 3 * exp.(x)  # true exponential model\n",
    "\n",
    "# generate data with noise\n",
    "Random.seed!(123)  # setting seed for reproducibility\n",
    "noise = randn(length(x)) .* 0.2  \n",
    "y = true_model(x) .+ noise       \n",
    "\n",
    "# fit model using LSQFit.jl\n",
    "model(x, p) = p[1] * exp.(p[2] .* x)  # model to fit \n",
    "initial_guess = [2.5, 1.0]            # initial guesses for parameters\n",
    "fit_result = curve_fit(model, x, y, initial_guess)\n",
    "\n",
    "# plot data and fitted curve\n",
    "scatter(x, y, label=\"Experimental Data\", xlabel=\"x\", ylabel=\"y\", legend=:top)\n",
    "plot!(x, model(x, fit_result.param), label=\"Fitted Model\")\n",
    "\n",
    "# covariance matrix from Hessian of Chi-square\n",
    "println(\"Fitted Parameters: \", fit_result.param)\n",
    "println(\"Covariance Matrix: \", fit_result.covariance)\n"
   ]
  },
  {
   "cell_type": "markdown",
   "id": "6f3dda2f",
   "metadata": {},
   "source": [
    "### 2.2 \n",
    "Similar to  2.1, repeat the procedure 500 times and calculate the standard deviation of the fitted parameters.  Then compare this standard deviation to the standard deviations that you estimated from the covariance matrix from each fit (you have to think a little about how you average the covariance matrix - give a rationale)."
   ]
  },
  {
   "cell_type": "code",
   "execution_count": null,
   "id": "0e83ead2",
   "metadata": {},
   "outputs": [],
   "source": [
    "num_iterations = 500\n",
    "fitted_params = zeros(num_iterations, length(initial_guess)) \n",
    "\n",
    "# fitting for multiple iterations\n",
    "for i in 1:num_iterations\n",
    "    noise = randn(length(x)) .* 0.2         # new noise\n",
    "    y_simulated = true_model(x) .+ noise   # simulated data\n",
    "    \n",
    "    fit_result = curve_fit(model, x, y_simulated, initial_guess)\n",
    "    fitted_params[i, :] .= fit_result.param # store fitted parameters\n",
    "end\n",
    "\n",
    "# standard deviation of fitted parameters\n",
    "param_stddevs = std(fitted_params, dims=1)\n",
    "println(\"Standard Deviations of Fitted Parameters: \", param_stddevs)\n",
    "\n",
    "average_covariance = mean([curve_fit(model, x, true_model(x) .+ randn(length(x)) .* 0.2, initial_guess).covariance for _ in 1:num_iterations], dims=1)\n",
    "println(\"Average Covariance Matrix: \", average_covariance)\n"
   ]
  },
  {
   "cell_type": "markdown",
   "id": "54dac510",
   "metadata": {},
   "source": [
    "The standard deviations from multiple fits represent variability due to noise in the data.\n",
    "The covariance matrix provides an estimate of parameter uncertainty based on the Hessian at the best fit.\n"
   ]
  }
 ],
 "metadata": {
  "kernelspec": {
   "display_name": "Julia 1.11.3",
   "language": "julia",
   "name": "julia-1.11"
  },
  "language_info": {
   "codemirror_mode": {
    "name": "ipython",
    "version": 3
   },
   "file_extension": ".py",
   "mimetype": "text/x-python",
   "name": "python",
   "nbconvert_exporter": "python",
   "pygments_lexer": "ipython3",
   "version": "3.12.8"
  }
 },
 "nbformat": 4,
 "nbformat_minor": 5
}
