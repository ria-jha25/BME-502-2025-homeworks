{
 "cells": [
  {
   "cell_type": "markdown",
   "id": "8f3f77c8-1e4f-452a-b383-a5d3fb119c3d",
   "metadata": {},
   "source": [
    "# Homework 1\n",
    "\n",
    "## Solve 3 out of 4 programming problems"
   ]
  },
  {
   "cell_type": "markdown",
   "id": "cc42fbf6-c6cb-4562-8835-dcf0f02de0b1",
   "metadata": {},
   "source": [
    "**Important note for all homeworks: when an exercise says _\"use function `function_name` to do something\"_, you need to first learn how to use the function. For this, you access the function's documentation string, using the help mode (type `?` or `@doc` in the Julia console and then type the function name)!**"
   ]
  },
  {
   "cell_type": "markdown",
   "id": "9d45a2dc-1e53-427e-becf-9d96c03e7fd5",
   "metadata": {},
   "source": [
    "## Babylonian square root\n",
    "To get the square root of $y$ Babylonians used the algorithm $x_{n+1} = \\frac{1}{2}(x_n + \\frac{y}{x_n})$ iteratively starting from some value $x_0$ to converge to $x_n \\to \\sqrt{y}$ as $n\\to \\infty$. Implement this algorithm in a function `babylonian(y, ε, x0 = 1)` (default optional argument `x0`), that takes some convergence tolerance `ε` to compare with the built-in `sqrt(y)`. The function should return the steps it took to reach the square root value within given tolerance.\n",
    "\n",
    "_Hint: for this exercise you only need a `while` code block without any other code structures such as `for, if, ...`._"
   ]
  },
  {
   "cell_type": "code",
   "execution_count": 2,
   "id": "b8039405-9770-452f-9077-ce7cb11c5f94",
   "metadata": {},
   "outputs": [
    {
     "name": "stdout",
     "output_type": "stream",
     "text": [
      "Any[1, 13.0, 7.461538461538462, 5.406026962727994, 5.015247601944898]\n"
     ]
    }
   ],
   "source": [
    "function babylonian(y, ε, x0 = 1)\n",
    "    steps = []\n",
    "    x = x0\n",
    "    while abs(x^2 - y) > ε\n",
    "        push!(steps, x)\n",
    "        x = 0.5 * (x + y / x)\n",
    "    end\n",
    "    return steps\n",
    "end\n",
    "\n",
    "println(babylonian(25, 0.01))"
   ]
  },
  {
   "cell_type": "markdown",
   "id": "2f00b591-17a8-4f77-a828-a0f47117a0f4",
   "metadata": {},
   "source": [
    "## Counting nucleotides\n",
    "Create a function that given a DNA strand (as a `String`, e.g. `\"AGAGAGATCCCTTA\"`) it counts how much of each nucleotide (A G T or C) is present in the strand and returns the result as a dictionary mapping the nucleotides to their counts. The function should throw an error (using the `error` function) if an invalid nucleotide is encountered. Test your result with `\"ATATATAGGCCAX\"` and `\"ATATATAGGCCAA\"`.\n",
    "\n",
    "*Hint: Strings are iterables! They iterate over the characters they contain.*"
   ]
  },
  {
   "cell_type": "code",
   "execution_count": 3,
   "id": "85b9ea18-747d-4ffe-bf7b-4263342538ae",
   "metadata": {},
   "outputs": [
    {
     "ename": "LoadError",
     "evalue": "AbstractDict collections only contain Pairs;\nEither look for e.g. A=>B instead, or use the `keys` or `values`\nfunction if you are looking for a key or value respectively.",
     "output_type": "error",
     "traceback": [
      "AbstractDict collections only contain Pairs;\nEither look for e.g. A=>B instead, or use the `keys` or `values`\nfunction if you are looking for a key or value respectively.",
      "",
      "Stacktrace:",
      " [1] error(s::String)",
      "   @ Base ./error.jl:35",
      " [2] in(p::Char, a::Dict{String, Int64})",
      "   @ Base ./abstractdict.jl:30",
      " [3] count_nucleotides(dna::String)",
      "   @ Main ./In[3]:5",
      " [4] top-level scope",
      "   @ In[3]:15"
     ]
    }
   ],
   "source": [
    "function count_nucleotides(dna::String)\n",
    "    nucleotide_counts = Dict(\"A\" => 0, \"T\" => 0, \"G\" => 0, \"C\" => 0)\n",
    "\n",
    "    for nucleotide in dna\n",
    "        if nucleotide in nucleotide_counts\n",
    "            nucleotide_counts[nucleotide] += 1\n",
    "        else\n",
    "            error(\"Invalid nucleotide '$nucleotide' encountered!\")\n",
    "        end\n",
    "    end\n",
    "\n",
    "    return nucleotide_counts\n",
    "end\n",
    "\n",
    "println(count_nucleotides(\"ATATATAGGCCAA\"))\n",
    "println(count_nucleotides(\"ATATATAGGCCAX\"))"
   ]
  },
  {
   "cell_type": "markdown",
   "id": "c1ada073-633b-48b2-80e4-22b3d92bb257",
   "metadata": {},
   "source": [
    "## Fibonacci numbers\n",
    "Using recursion (a function that calls itself) create a function that given an integer `n` it returns the `n`-th [Fibonacci number](https://en.wikipedia.org/wiki/Fibonacci_number). Apply it using `map` to the range `1:8` to get the result `[1,1,2,3,5,8,13]`."
   ]
  },
  {
   "cell_type": "code",
   "execution_count": 4,
   "id": "7eb9ed46-ed42-4dae-a476-81080dbda440",
   "metadata": {},
   "outputs": [
    {
     "name": "stdout",
     "output_type": "stream",
     "text": [
      "[1, 1, 2, 3, 5, 8, 13, 21]\n"
     ]
    }
   ],
   "source": [
    "function fibonacci(n::Int)\n",
    "    if n <= 2\n",
    "        return 1\n",
    "    else\n",
    "        return fibonacci(n - 1) + fibonacci(n - 2)\n",
    "    end\n",
    "end\n",
    "\n",
    "println(map(fibonacci, 1:8))"
   ]
  },
  {
   "cell_type": "markdown",
   "id": "595bdbd3-c7f4-40a5-813b-f01ecbd93e61",
   "metadata": {},
   "source": [
    "## Hamming distance\n",
    "\n",
    "Create a function that calculates the Hamming distance of two equal DNA strands, given as strings. This distance is defined by counting (sequentially) the number of non-equal letters in the two strands, e.g. `\"ATA\"` and `\"ATC\"` have distance of 1, while `\"ATC\"` and `\"CAT\"` have distance of 3. \n",
    "\n",
    "*Hint: this exercise has a one-liner solution, using the `zip` and `count` functions.*"
   ]
  },
  {
   "cell_type": "code",
   "execution_count": 1,
   "id": "e7731c45-c80e-43c3-84bc-66cbdc684b2c",
   "metadata": {},
   "outputs": [
    {
     "ename": "LoadError",
     "evalue": "MethodError: no method matching (::var\"#1#2\")(::Tuple{Char, Char})\nThe function `#1` exists, but no method is defined for this combination of argument types.\n\n\u001b[0mClosest candidates are:\n\u001b[0m  (::var\"#1#2\")(::Any, \u001b[91m::Any\u001b[39m)\n\u001b[0m\u001b[90m   @\u001b[39m \u001b[35mMain\u001b[39m \u001b[90m\u001b[4mIn[1]:2\u001b[24m\u001b[39m\n",
     "output_type": "error",
     "traceback": [
      "MethodError: no method matching (::var\"#1#2\")(::Tuple{Char, Char})\nThe function `#1` exists, but no method is defined for this combination of argument types.\n\n\u001b[0mClosest candidates are:\n\u001b[0m  (::var\"#1#2\")(::Any, \u001b[91m::Any\u001b[39m)\n\u001b[0m\u001b[90m   @\u001b[39m \u001b[35mMain\u001b[39m \u001b[90m\u001b[4mIn[1]:2\u001b[24m\u001b[39m\n",
      "",
      "Stacktrace:",
      "  [1] (::Base.var\"#361#362\"{var\"#1#2\"})(x::Tuple{Char, Char})",
      "    @ Base ./reduce.jl:1346",
      "  [2] MappingRF",
      "    @ ./reduce.jl:100 [inlined]",
      "  [3] _foldl_impl(op::Base.MappingRF{Base.var\"#361#362\"{var\"#1#2\"}, Base.BottomRF{typeof(Base.add_sum)}}, init::Int64, itr::Base.Iterators.Zip{Tuple{String, String}})",
      "    @ Base ./reduce.jl:58",
      "  [4] foldl_impl",
      "    @ ./reduce.jl:48 [inlined]",
      "  [5] mapfoldl_impl",
      "    @ ./reduce.jl:44 [inlined]",
      "  [6] mapfoldl",
      "    @ ./reduce.jl:175 [inlined]",
      "  [7] mapreduce",
      "    @ ./reduce.jl:307 [inlined]",
      "  [8] sum",
      "    @ ./reduce.jl:532 [inlined]",
      "  [9] _simple_count",
      "    @ ./reduce.jl:1377 [inlined]",
      " [10] count",
      "    @ ./reduce.jl:1375 [inlined]",
      " [11] hamming_distance(strand1::String, strand2::String)",
      "    @ Main ./In[1]:2",
      " [12] top-level scope",
      "    @ In[1]:5"
     ]
    }
   ],
   "source": []
  }
 ],
 "metadata": {
  "kernelspec": {
   "display_name": "Julia 1.11.3",
   "language": "julia",
   "name": "julia-1.11"
  },
  "language_info": {
   "file_extension": ".jl",
   "mimetype": "application/julia",
   "name": "julia",
   "version": "1.11.3"
  }
 },
 "nbformat": 4,
 "nbformat_minor": 5
}
