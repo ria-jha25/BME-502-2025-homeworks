function count_nucleotides(DNA)
    DNAstrand = Dict('A' => 0, 'T' => 0, 'G' => 0, 'C' => 0) #for nucleotide in string
        for nucleotide in DNA
           if  haskey(DNAstrand,nucleotide)
                DNAstrand[nucleotide] +=1 
           else error("unknown nucleotides $(nucleotide)!")
           end
        end
    return DNAstrand
end
count_nucleotides("ATATATAGGCCAX") 
count_nucleotides("ATATATAGGCCAA")



function fibonacci(n)
    if (n == 1) || (n == 2) 
         return 1
    end 
    return fibonacci(n-1) + fibonacci(n-2)
end
fibonacci.(1:8)


function hamming(s1, s2) 
    return count(pair -> pair[1] != pair[2], zip(s1, s2))


    hamming("ATA", "ATC")
    hamming("ATC", "CAT")
end
