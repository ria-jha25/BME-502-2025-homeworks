{
 "cells": [
  {
   "cell_type": "markdown",
   "id": "8f3f77c8-1e4f-452a-b383-a5d3fb119c3d",
   "metadata": {},
   "source": [
    "# Homework 1\n",
    "\n",
    "## Solve 3 out of 4 programming problems"
   ]
  },
  {
   "cell_type": "markdown",
   "id": "cc42fbf6-c6cb-4562-8835-dcf0f02de0b1",
   "metadata": {},
   "source": [
    "**Important note for all homeworks: when an exercise says _\"use function `function_name` to do something\"_, you need to first learn how to use the function. For this, you access the function's documentation string, using the help mode (type `?` or `@doc` in the Julia console and then type the function name)!**"
   ]
  },
  {
   "cell_type": "markdown",
   "id": "9d45a2dc-1e53-427e-becf-9d96c03e7fd5",
   "metadata": {},
   "source": [
    "## Babylonian square root\n",
    "To get the square root of $y$ Babylonians used the algorithm $x_{n+1} = \\frac{1}{2}(x_n + \\frac{y}{x_n})$ iteratively starting from some value $x_0$ to converge to $x_n \\to \\sqrt{y}$ as $n\\to \\infty$. Implement this algorithm in a function `babylonian(y, ε, x0 = 1)` (default optional argument `x0`), that takes some convergence tolerance `ε` to compare with the built-in `sqrt(y)`. The function should return the steps it took to reach the square root value within given tolerance.\n",
    "\n",
    "_Hint: for this exercise you only need a `while` code block without any other code structures such as `for, if, ...`._"
   ]
  },
  {
   "cell_type": "code",
   "execution_count": 30,
   "id": "b8039405-9770-452f-9077-ce7cb11c5f94",
   "metadata": {},
   "outputs": [
    {
     "name": "stdout",
     "output_type": "stream",
     "text": [
      "Steps:6\n"
     ]
    }
   ],
   "source": [
    "function babylonian(y, ϵ, x0=1)\n",
    "    steps = 0\n",
    "    while abs(sqrt(y)-x0) > ϵ\n",
    "        x0 = 0.5 * (x0 + y / x0)\n",
    "        steps += 1\n",
    "    end\n",
    "    return steps\n",
    "end\n",
    "\n",
    "# set y and ϵ\n",
    "y = 4\n",
    "ϵ = 0\n",
    "steps = babylonian(y, ϵ)\n",
    "println(\"Steps:\", steps)"
   ]
  },
  {
   "cell_type": "markdown",
   "id": "2f00b591-17a8-4f77-a828-a0f47117a0f4",
   "metadata": {},
   "source": [
    "## Counting nucleotides\n",
    "Create a function that given a DNA strand (as a `String`, e.g. `\"AGAGAGATCCCTTA\"`) it counts how much of each nucleotide (A G T or C) is present in the strand and returns the result as a dictionary mapping the nucleotides to their counts. The function should throw an error (using the `error` function) if an invalid nucleotide is encountered. Test your result with `\"ATATATAGGCCAX\"` and `\"ATATATAGGCCAA\"`.\n",
    "\n",
    "*Hint: Strings are iterables! They iterate over the characters they contain.*"
   ]
  },
  {
   "cell_type": "code",
   "execution_count": 38,
   "id": "85b9ea18-747d-4ffe-bf7b-4263342538ae",
   "metadata": {},
   "outputs": [
    {
     "name": "stdout",
     "output_type": "stream",
     "text": [
      "Dict('A' => 6, 'G' => 2, 'T' => 3, 'C' => 6)\n"
     ]
    }
   ],
   "source": [
    "function count_nucleotides(dna::String)\n",
    "    valid_nucleotides = Set(['A', 'T', 'G', 'C'])\n",
    "    counts = Dict('A' => 0, 'T' => 0, 'G' => 0, 'C' => 0)\n",
    "\n",
    "    for nucleotide in dna\n",
    "        if nucleotide ∉ valid_nucleotides\n",
    "            error(\"Invalid nucleotide encountered: $nucleotide\")\n",
    "        end\n",
    "        counts[nucleotide] += 1\n",
    "    end\n",
    "\n",
    "    return counts\n",
    "end\n",
    "\n",
    "# Test counts\n",
    "println(count_nucleotides(\"ATATATAGGCCCCCCAA\")) "
   ]
  },
  {
   "cell_type": "code",
   "execution_count": 40,
   "id": "bd6150ee-911f-47c4-9438-a46790482f69",
   "metadata": {},
   "outputs": [
    {
     "ename": "LoadError",
     "evalue": "Invalid nucleotide encountered: X",
     "output_type": "error",
     "traceback": [
      "Invalid nucleotide encountered: X",
      "",
      "Stacktrace:",
      " [1] error(s::String)",
      "   @ Base .\\error.jl:35",
      " [2] count_nucleotides(dna::String)",
      "   @ Main .\\In[38]:7",
      " [3] top-level scope",
      "   @ In[40]:1"
     ]
    }
   ],
   "source": [
    "# Test error\n",
    "println(count_nucleotides(\"ATATATAGGCCAAAX\")) "
   ]
  },
  {
   "cell_type": "markdown",
   "id": "c1ada073-633b-48b2-80e4-22b3d92bb257",
   "metadata": {},
   "source": [
    "## Fibonacci numbers\n",
    "Using recursion (a function that calls itself) create a function that given an integer `n` it returns the `n`-th [Fibonacci number](https://en.wikipedia.org/wiki/Fibonacci_number). Apply it using `map` to the range `1:8` to get the result `[1,1,2,3,5,8,13]`."
   ]
  },
  {
   "cell_type": "code",
   "execution_count": 33,
   "id": "7eb9ed46-ed42-4dae-a476-81080dbda440",
   "metadata": {},
   "outputs": [
    {
     "name": "stdout",
     "output_type": "stream",
     "text": [
      "[1, 1, 2, 3, 5, 8, 13, 21]\n"
     ]
    }
   ],
   "source": [
    "function fibonacci(n::Int)\n",
    "    if n == 1 || n == 2\n",
    "        return 1\n",
    "    end\n",
    "    return fibonacci(n - 1) + fibonacci(n - 2)\n",
    "end\n",
    "\n",
    "# range 1:8\n",
    "fib_sequence = map(fibonacci, 1:8)\n",
    "\n",
    "println(fib_sequence)  \n"
   ]
  },
  {
   "cell_type": "markdown",
   "id": "595bdbd3-c7f4-40a5-813b-f01ecbd93e61",
   "metadata": {},
   "source": [
    "## Hamming distance\n",
    "\n",
    "Create a function that calculates the Hamming distance of two equal DNA strands, given as strings. This distance is defined by counting (sequentially) the number of non-equal letters in the two strands, e.g. `\"ATA\"` and `\"ATC\"` have distance of 1, while `\"ATC\"` and `\"CAT\"` have distance of 3. \n",
    "\n",
    "*Hint: this exercise has a one-liner solution, using the `zip` and `count` functions.*"
   ]
  },
  {
   "cell_type": "code",
   "execution_count": 41,
   "id": "5900fb85-93be-456e-aa01-ef2ed863126a",
   "metadata": {},
   "outputs": [
    {
     "data": {
      "text/plain": [
       "hamming_distance (generic function with 1 method)"
      ]
     },
     "execution_count": 41,
     "metadata": {},
     "output_type": "execute_result"
    }
   ],
   "source": [
    "function hamming_distance(s1::String, s2::String)\n",
    "    return count(p -> p[1] != p[2], zip(s1, s2))\n",
    "end"
   ]
  },
  {
   "cell_type": "code",
   "execution_count": 42,
   "id": "65ebf686-7c56-4f5b-87b3-820f60cac4d6",
   "metadata": {},
   "outputs": [
    {
     "name": "stdout",
     "output_type": "stream",
     "text": [
      "1\n",
      "3\n"
     ]
    }
   ],
   "source": [
    "println(hamming_distance(\"ATA\", \"ATC\"))  # distance: 1\n",
    "println(hamming_distance(\"ATC\", \"CAT\"))  # distance: 3\n"
   ]
  },
  {
   "cell_type": "code",
   "execution_count": null,
   "id": "7fc82cb6-447d-49d6-9ce1-14de50071e1d",
   "metadata": {},
   "outputs": [],
   "source": []
  }
 ],
 "metadata": {
  "kernelspec": {
   "display_name": "Julia 1.10.5",
   "language": "julia",
   "name": "julia-1.10"
  },
  "language_info": {
   "file_extension": ".jl",
   "mimetype": "application/julia",
   "name": "julia",
   "version": "1.10.5"
  }
 },
 "nbformat": 4,
 "nbformat_minor": 5
}
