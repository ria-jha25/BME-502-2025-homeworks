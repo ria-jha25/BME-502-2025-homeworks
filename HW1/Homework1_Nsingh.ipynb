{
 "cells": [
  {
   "cell_type": "markdown",
   "id": "8f3f77c8-1e4f-452a-b383-a5d3fb119c3d",
   "metadata": {},
   "source": [
    "# Homework 1\n",
    "\n",
    "## Solve 3 out of 4 programming problems"
   ]
  },
  {
   "cell_type": "markdown",
   "id": "cc42fbf6-c6cb-4562-8835-dcf0f02de0b1",
   "metadata": {},
   "source": [
    "**Important note for all homeworks: when an exercise says _\"use function `function_name` to do something\"_, you need to first learn how to use the function. For this, you access the function's documentation string, using the help mode (type `?` or `@doc` in the Julia console and then type the function name)!**"
   ]
  },
  {
   "cell_type": "markdown",
   "id": "9d45a2dc-1e53-427e-becf-9d96c03e7fd5",
   "metadata": {},
   "source": [
    "## Babylonian square root\n",
    "To get the square root of $y$ Babylonians used the algorithm $x_{n+1} = \\frac{1}{2}(x_n + \\frac{y}{x_n})$ iteratively starting from some value $x_0$ to converge to $x_n \\to \\sqrt{y}$ as $n\\to \\infty$. Implement this algorithm in a function `babylonian(y, ε, x0 = 1)` (default optional argument `x0`), that takes some convergence tolerance `ε` to compare with the built-in `sqrt(y)`. The function should return the steps it took to reach the square root value within given tolerance.\n",
    "\n",
    "_Hint: for this exercise you only need a `while` code block without any other code structures such as `for, if, ...`._"
   ]
  },
  {
   "cell_type": "code",
   "execution_count": 4,
   "id": "b8039405-9770-452f-9077-ce7cb11c5f94",
   "metadata": {},
   "outputs": [
    {
     "name": "stdout",
     "output_type": "stream",
     "text": [
      "Approximate sqrt: 5.000000000053722\n",
      "Iterations: 6\n"
     ]
    }
   ],
   "source": [
    "# Set Function and Vars\n",
    "function babylonian(y, ε, x0=1) #func designation\n",
    "    x = x0 #start var\n",
    "    steps = 0 # step for reiteration, stop \n",
    "    \n",
    "# While loop of eqn, \n",
    "    while abs(x^2 - y) > ε  # Check if our approx is larger than y. If true(overestimating), END procedure \n",
    "        x = 0.5 * (x + (y / x)) # Babylonian Algorithim\n",
    "        steps += 1 # how many times did we need to approximate until we get close \n",
    "    end\n",
    "    return x, steps  # Approx SQRT and # of steps it took to iterate. \n",
    "end\n",
    "\n",
    "# Display Values\n",
    "result, iterations = babylonian(25, 1e-6)\n",
    "println(\"Approximate sqrt: \", result)\n",
    "println(\"Iterations: \", iterations)\n"
   ]
  },
  {
   "cell_type": "markdown",
   "id": "2f00b591-17a8-4f77-a828-a0f47117a0f4",
   "metadata": {},
   "source": [
    "## Counting nucleotides\n",
    "Create a function that given a DNA strand (as a `String`, e.g. `\"AGAGAGATCCCTTA\"`) it counts how much of each nucleotide (A G T or C) is present in the strand and returns the result as a dictionary mapping the nucleotides to their counts. The function should throw an error (using the `error` function) if an invalid nucleotide is encountered. Test your result with `\"ATATATAGGCCAX\"` and `\"ATATATAGGCCAA\"`.\n",
    "\n",
    "*Hint: Strings are iterables! They iterate over the characters they contain.*"
   ]
  },
  {
   "cell_type": "code",
   "execution_count": 10,
   "id": "85b9ea18-747d-4ffe-bf7b-4263342538ae",
   "metadata": {},
   "outputs": [
    {
     "name": "stdout",
     "output_type": "stream",
     "text": [
      "Dict('A' => 6, 'G' => 2, 'T' => 3, 'C' => 2)\n"
     ]
    }
   ],
   "source": [
    "function nucleo_count(dna::String)\n",
    "    realnucleotides = ['A', 'C', 'T', 'G']  # Valid nucleotides in DNA\n",
    "    counter = Dict('A' => 0, 'C' => 0, 'T' => 0, 'G' => 0)  # Initialize counts to 0\n",
    "\n",
    "    for nucleotide in dna\n",
    "        if nucleotide in realnucleotides\n",
    "            counter[nucleotide] += 1\n",
    "        else\n",
    "            error(\"Invalid nucleotide found: $nucleotide\")\n",
    "        end\n",
    "    end\n",
    "\n",
    "    return counter\n",
    "end\n",
    "println(nucleo_count(\"ATATATAGGCCAA\"))\n"
   ]
  },
  {
   "cell_type": "code",
   "execution_count": 11,
   "id": "6b66f431",
   "metadata": {},
   "outputs": [
    {
     "ename": "LoadError",
     "evalue": "Invalid nucleotide found: X",
     "output_type": "error",
     "traceback": [
      "Invalid nucleotide found: X",
      "",
      "Stacktrace:",
      " [1] error(s::String)",
      "   @ Base ./error.jl:35",
      " [2] nucleo_count(dna::String)",
      "   @ Main ./In[11]:10",
      " [3] top-level scope",
      "   @ In[11]:16"
     ]
    }
   ],
   "source": [
    "# IF we had an ERROR in our string instead. \n",
    "function nucleo_count(dna::String)\n",
    "    realnucleotides = ['A', 'C', 'T', 'G']  # Valid nucleotides in DNA\n",
    "    counter = Dict('A' => 0, 'C' => 0, 'T' => 0, 'G' => 0)  # Initialize counts to 0\n",
    "\n",
    "    for nucleotide in dna\n",
    "        if nucleotide in realnucleotides\n",
    "            counter[nucleotide] += 1\n",
    "        else\n",
    "            error(\"Invalid nucleotide found: $nucleotide\")\n",
    "        end\n",
    "    end\n",
    "\n",
    "    return counter\n",
    "end\n",
    "println(nucleo_count(\"ATATATAGGCCAAXX\"))"
   ]
  },
  {
   "cell_type": "markdown",
   "id": "c1ada073-633b-48b2-80e4-22b3d92bb257",
   "metadata": {},
   "source": [
    "## Fibonacci numbers\n",
    "Using recursion (a function that calls itself) create a function that given an integer `n` it returns the `n`-th [Fibonacci number](https://en.wikipedia.org/wiki/Fibonacci_number). Apply it using `map` to the range `1:8` to get the result `[1,1,2,3,5,8,13]`."
   ]
  },
  {
   "cell_type": "code",
   "execution_count": 1,
   "id": "7eb9ed46-ed42-4dae-a476-81080dbda440",
   "metadata": {},
   "outputs": [
    {
     "name": "stdout",
     "output_type": "stream",
     "text": [
      "[1, 1, 2, 3, 5, 8, 13, 21]\n"
     ]
    }
   ],
   "source": [
    "function fibonacci(n::Int) # Fib Func from start to end Int\n",
    "    if n ≤ 0 # Check for non-positives\n",
    "        error(\"Input must be a positive integer\")\n",
    "    elseif n == 1 || n == 2 \n",
    "        return 1\n",
    "    else\n",
    "        return fibonacci(n-1) + fibonacci(n-2) # Fib seq after n=1,2\n",
    "    end\n",
    "end\n",
    "\n",
    "fib_sequence = map(fibonacci, 1:8)\n",
    "println(fib_sequence)\n"
   ]
  },
  {
   "cell_type": "markdown",
   "id": "595bdbd3-c7f4-40a5-813b-f01ecbd93e61",
   "metadata": {},
   "source": [
    "## Hamming distance\n",
    "\n",
    "Create a function that calculates the Hamming distance of two equal DNA strands, given as strings. This distance is defined by counting (sequentially) the number of non-equal letters in the two strands, e.g. `\"ATA\"` and `\"ATC\"` have distance of 1, while `\"ATC\"` and `\"CAT\"` have distance of 3. \n",
    "\n",
    "*Hint: this exercise has a one-liner solution, using the `zip` and `count` functions.*"
   ]
  },
  {
   "cell_type": "code",
   "execution_count": null,
   "id": "e7731c45-c80e-43c3-84bc-66cbdc684b2c",
   "metadata": {},
   "outputs": [],
   "source": [
    "# SKIPPED. \n",
    "\n",
    "\n"
   ]
  },
  {
   "cell_type": "code",
   "execution_count": null,
   "id": "6339787d",
   "metadata": {},
   "outputs": [],
   "source": []
  }
 ],
 "metadata": {
  "kernelspec": {
   "display_name": "Julia 1.11.3",
   "language": "julia",
   "name": "julia-1.11"
  },
  "language_info": {
   "file_extension": ".jl",
   "mimetype": "application/julia",
   "name": "julia",
   "version": "1.11.3"
  }
 },
 "nbformat": 4,
 "nbformat_minor": 5
}
