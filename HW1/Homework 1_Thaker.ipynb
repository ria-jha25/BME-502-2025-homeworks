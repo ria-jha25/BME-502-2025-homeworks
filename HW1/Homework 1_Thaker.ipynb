{
 "cells": [
  {
   "cell_type": "code",
   "execution_count": 1,
   "id": "ee6b5e3c",
   "metadata": {},
   "outputs": [
    {
     "data": {
      "text/plain": [
       "babylonian (generic function with 2 methods)"
      ]
     },
     "execution_count": 1,
     "metadata": {},
     "output_type": "execute_result"
    }
   ],
   "source": [
    "#Question 1\n",
    "\n",
    "function babylonian(y, ϵ, x0 = 1)\n",
    "    x = x0\n",
    "    steps = 0\n",
    "    while abs(x-sqrt(y)) > ϵ\n",
    "        x = 0.5 * (x + y/x)\n",
    "        steps += 1 \n",
    "    end\n",
    "    return x, steps\n",
    "end \n"
   ]
  },
  {
   "cell_type": "code",
   "execution_count": 2,
   "id": "555b6cde",
   "metadata": {},
   "outputs": [
    {
     "data": {
      "text/plain": [
       "(5.000000000053722, 6)"
      ]
     },
     "execution_count": 2,
     "metadata": {},
     "output_type": "execute_result"
    }
   ],
   "source": [
    "babylonian(25 , 1e-6)"
   ]
  },
  {
   "cell_type": "code",
   "execution_count": 14,
   "id": "a817089d",
   "metadata": {},
   "outputs": [
    {
     "data": {
      "text/plain": [
       "nucleotideCounter (generic function with 2 methods)"
      ]
     },
     "execution_count": 14,
     "metadata": {},
     "output_type": "execute_result"
    }
   ],
   "source": [
    "# Question 2\n",
    "\n",
    "function nucleotideCounter(strand::String)\n",
    "    nucleotideCounts = Dict('A' => 0, 'T' => 0, 'C' => 0, 'G'=> 0)\n",
    "    \n",
    "    for nucleotide in strand\n",
    "        if haskey(nucleotideCounts, nucleotide)\n",
    "            nucleotideCounts[nucleotide] += 1\n",
    "        else \n",
    "            error(\"Invalid Nucleotide: $nucleotide\")\n",
    "        end\n",
    "    end\n",
    "    return nucleotideCounts\n",
    "end"
   ]
  },
  {
   "cell_type": "code",
   "execution_count": 15,
   "id": "00ffcc3d",
   "metadata": {},
   "outputs": [
    {
     "name": "stdout",
     "output_type": "stream",
     "text": [
      "Dict('A' => 4, 'G' => 2, 'T' => 3, 'C' => 2)\n"
     ]
    }
   ],
   "source": [
    "println(nucleotideCounter(\"CATATATGGCA\"))"
   ]
  },
  {
   "cell_type": "code",
   "execution_count": 16,
   "id": "62656032",
   "metadata": {},
   "outputs": [
    {
     "ename": "LoadError",
     "evalue": "Invalid Nucleotide: Z",
     "output_type": "error",
     "traceback": [
      "Invalid Nucleotide: Z",
      "",
      "Stacktrace:",
      " [1] error(s::String)",
      "   @ Base .\\error.jl:35",
      " [2] nucleotideCounter(strand::String)",
      "   @ Main .\\In[14]:10",
      " [3] top-level scope",
      "   @ In[16]:1"
     ]
    }
   ],
   "source": [
    "println(nucleotideCounter(\"CATZATATGGCA\"))"
   ]
  },
  {
   "cell_type": "code",
   "execution_count": 20,
   "id": "9b59b1f2",
   "metadata": {},
   "outputs": [
    {
     "data": {
      "text/plain": [
       "hammingDistance (generic function with 1 method)"
      ]
     },
     "execution_count": 20,
     "metadata": {},
     "output_type": "execute_result"
    }
   ],
   "source": [
    "#Question 4\n",
    "function hammingDistance(a, b)\n",
    "    return count(t -> t[1] != t[2], zip(a, b))\n",
    "    end "
   ]
  },
  {
   "cell_type": "code",
   "execution_count": 24,
   "id": "0a1bcf2f",
   "metadata": {},
   "outputs": [
    {
     "data": {
      "text/plain": [
       "3"
      ]
     },
     "execution_count": 24,
     "metadata": {},
     "output_type": "execute_result"
    }
   ],
   "source": [
    "hammingDistance(\"GGC\", \"ATG\")"
   ]
  },
  {
   "cell_type": "code",
   "execution_count": null,
   "id": "ebdf4ef8",
   "metadata": {},
   "outputs": [],
   "source": []
  }
 ],
 "metadata": {
  "kernelspec": {
   "display_name": "Julia 1.10.4",
   "language": "julia",
   "name": "julia-1.10"
  },
  "language_info": {
   "file_extension": ".jl",
   "mimetype": "application/julia",
   "name": "julia",
   "version": "1.10.4"
  }
 },
 "nbformat": 4,
 "nbformat_minor": 5
}
