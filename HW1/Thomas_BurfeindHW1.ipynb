{
 "cells": [
  {
   "cell_type": "markdown",
   "id": "8f3f77c8-1e4f-452a-b383-a5d3fb119c3d",
   "metadata": {},
   "source": [
    "# Homework 1\n",
    "\n",
    "## Solve 3 out of 4 programming problems"
   ]
  },
  {
   "cell_type": "markdown",
   "id": "cc42fbf6-c6cb-4562-8835-dcf0f02de0b1",
   "metadata": {},
   "source": [
    "**Important note for all homeworks: when an exercise says _\"use function `function_name` to do something\"_, you need to first learn how to use the function. For this, you access the function's documentation string, using the help mode (type `?` or `@doc` in the Julia console and then type the function name)!**"
   ]
  },
  {
   "cell_type": "markdown",
   "id": "9d45a2dc-1e53-427e-becf-9d96c03e7fd5",
   "metadata": {},
   "source": [
    "## Babylonian square root\n",
    "To get the square root of $y$ Babylonians used the algorithm $x_{n+1} = \\frac{1}{2}(x_n + \\frac{y}{x_n})$ iteratively starting from some value $x_0$ to converge to $x_n \\to \\sqrt{y}$ as $n\\to \\infty$. Implement this algorithm in a function `babylonian(y, ε, x0 = 1)` (default optional argument `x0`), that takes some convergence tolerance `ε` to compare with the built-in `sqrt(y)`. The function should return the steps it took to reach the square root value within given tolerance.\n",
    "\n",
    "_Hint: for this exercise you only need a `while` code block without any other code structures such as `for, if, ...`._"
   ]
  },
  {
   "cell_type": "code",
   "execution_count": 3,
   "id": "b8039405-9770-452f-9077-ce7cb11c5f94",
   "metadata": {},
   "outputs": [
    {
     "name": "stdout",
     "output_type": "stream",
     "text": [
      "Babylonian Square Root with 7 Iterations: 3.872983346207433 \n",
      "        Normal Square Root: 3.872983346207417"
     ]
    }
   ],
   "source": [
    "function babylonian(y, ε, x0 = 1)\n",
    "  x_plus_one = 0\n",
    "    count = 1\n",
    "    norm_sqrt = sqrt(y)\n",
    "    abs(x_plus_one - norm_sqrt)\n",
    "    \n",
    "while abs(x_plus_one - norm_sqrt) >= ε\n",
    "x_plus_one = (x0 + (y/x0))/2\n",
    "    x0 = x_plus_one \n",
    "        count = count + 1\n",
    "end\n",
    "    print(\"Babylonian Square Root with $count Iterations: $x_plus_one \n",
    "        Normal Square Root: $norm_sqrt\")\n",
    "    \n",
    "\n",
    "end \n",
    "\n",
    "\n",
    "   babylonian(15, .000000001) \n",
    "\n"
   ]
  },
  {
   "cell_type": "markdown",
   "id": "2f00b591-17a8-4f77-a828-a0f47117a0f4",
   "metadata": {},
   "source": [
    "## Counting nucleotides\n",
    "Create a function that given a DNA strand (as a `String`, e.g. `\"AGAGAGATCCCTTA\"`) it counts how much of each nucleotide (A G T or C) is present in the strand and returns the result as a dictionary mapping the nucleotides to their counts. The function should throw an error (using the `error` function) if an invalid nucleotide is encountered. Test your result with `\"ATATATAGGCCAX\"` and `\"ATATATAGGCCAA\"`.\n",
    "\n",
    "*Hint: Strings are iterables! They iterate over the characters they contain.*"
   ]
  },
  {
   "cell_type": "code",
   "execution_count": 4,
   "id": "85b9ea18-747d-4ffe-bf7b-4263342538ae",
   "metadata": {},
   "outputs": [
    {
     "name": "stdout",
     "output_type": "stream",
     "text": [
      "Dict(\"A\" => 9, \"T\" => 3, \"C\" => 2, \"G\" => 2)"
     ]
    }
   ],
   "source": [
    "function nucleo_count(string)\n",
    "    char_count = length(string)\n",
    "\n",
    "    A_var = 0\n",
    "    G_var = 0\n",
    "    T_var = 0\n",
    "    C_var = 0\n",
    "    \n",
    "    for count in 1:char_count\n",
    "string_break = collect(Iterators.take(string, count))\n",
    "        b = last(string_break)\n",
    "        if b == 'A'\n",
    "            A_var = A_var + 1\n",
    "\n",
    "        elseif b == 'G'\n",
    "             G_var = G_var + 1\n",
    "\n",
    "        elseif b == 'T'\n",
    "             T_var = T_var + 1\n",
    "\n",
    "        elseif b == 'C'\n",
    "             C_var = C_var + 1\n",
    "\n",
    "        else \n",
    "           error(\"String contains non-nucleotide repersentation\") \n",
    "\n",
    "        end \n",
    "    end \n",
    "    \n",
    "   nucleo_dict = Dict(\"A\" => A_var, \"G\" => G_var, \"T\" => T_var, \"C\" => C_var)\n",
    "     print(nucleo_dict)\n",
    "end \n",
    "\n",
    "nucleo_count(\"ATATATAGGCCAAAAA\")"
   ]
  },
  {
   "cell_type": "markdown",
   "id": "c1ada073-633b-48b2-80e4-22b3d92bb257",
   "metadata": {},
   "source": [
    "## Fibonacci numbers\n",
    "Using recursion (a function that calls itself) create a function that given an integer `n` it returns the `n`-th [Fibonacci number](https://en.wikipedia.org/wiki/Fibonacci_number). Apply it using `map` to the range `1:8` to get the result `[1,1,2,3,5,8,13]`."
   ]
  },
  {
   "cell_type": "code",
   "execution_count": 74,
   "id": "7eb9ed46-ed42-4dae-a476-81080dbda440",
   "metadata": {},
   "outputs": [
    {
     "name": "stdout",
     "output_type": "stream",
     "text": [
      "[1, 1, 2, 3, 5, 8, 13, 21]\n"
     ]
    }
   ],
   "source": [
    "function fib(n::Int)\n",
    "    if n <= 1\n",
    "        return n\n",
    "    else\n",
    "        return fib(n - 1) + fib(n - 2)\n",
    "    end\n",
    "end\n",
    "\n",
    "res = map(fibonacci, 1:8)\n",
    "println(res)\n"
   ]
  },
  {
   "cell_type": "markdown",
   "id": "595bdbd3-c7f4-40a5-813b-f01ecbd93e61",
   "metadata": {},
   "source": [
    "## Hamming distance\n",
    "\n",
    "Create a function that calculates the Hamming distance of two equal DNA strands, given as strings. This distance is defined by counting (sequentially) the number of non-equal letters in the two strands, e.g. `\"ATA\"` and `\"ATC\"` have distance of 1, while `\"ATC\"` and `\"CAT\"` have distance of 3. \n",
    "\n",
    "*Hint: this exercise has a one-liner solution, using the `zip` and `count` functions.*"
   ]
  },
  {
   "cell_type": "code",
   "execution_count": 129,
   "id": "132a54c1-6c28-45f1-969c-951ce424faaa",
   "metadata": {},
   "outputs": [
    {
     "name": "stdout",
     "output_type": "stream",
     "text": [
      "The Hamming Distance of the two strands is: 1"
     ]
    }
   ],
   "source": [
    "function Ham(Strand1, Strand2)\n",
    "ans = count(x -> x[1] != x[2], zip(Strand1, Strand2))\n",
    "\n",
    "    print(\"The Hamming Distance of the two strands is: $ans\")\n",
    "\n",
    "end \n",
    "\n",
    "Ham(\"ATA\", \"ATC\")\n",
    "    \n",
    "\n"
   ]
  }
 ],
 "metadata": {
  "kernelspec": {
   "display_name": "Julia 1.11.3",
   "language": "julia",
   "name": "julia-1.11"
  },
  "language_info": {
   "file_extension": ".jl",
   "mimetype": "application/julia",
   "name": "julia",
   "version": "1.11.3"
  }
 },
 "nbformat": 4,
 "nbformat_minor": 5
}
