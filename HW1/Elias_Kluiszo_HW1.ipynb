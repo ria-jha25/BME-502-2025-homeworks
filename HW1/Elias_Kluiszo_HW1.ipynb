{
 "cells": [
  {
   "cell_type": "markdown",
   "id": "8f3f77c8-1e4f-452a-b383-a5d3fb119c3d",
   "metadata": {},
   "source": [
    "# Homework 1\n",
    "\n",
    "## Solve 3 out of 4 programming problems"
   ]
  },
  {
   "cell_type": "markdown",
   "id": "cc42fbf6-c6cb-4562-8835-dcf0f02de0b1",
   "metadata": {},
   "source": [
    "**Important note for all homeworks: when an exercise says _\"use function `function_name` to do something\"_, you need to first learn how to use the function. For this, you access the function's documentation string, using the help mode (type `?` or `@doc` in the Julia console and then type the function name)!**"
   ]
  },
  {
   "cell_type": "markdown",
   "id": "9d45a2dc-1e53-427e-becf-9d96c03e7fd5",
   "metadata": {},
   "source": [
    "## Babylonian square root\n",
    "To get the square root of $y$ Babylonians used the algorithm $x_{n+1} = \\frac{1}{2}(x_n + \\frac{y}{x_n})$ iteratively starting from some value $x_0$ to converge to $x_n \\to \\sqrt{y}$ as $n\\to \\infty$. Implement this algorithm in a function `babylonian(y, ε, x0 = 1)` (default optional argument `x0`), that takes some convergence tolerance `ε` to compare with the built-in `sqrt(y)`. The function should return the steps it took to reach the square root value within given tolerance.\n",
    "\n",
    "_Hint: for this exercise you only need a `while` code block without any other code structures such as `for, if, ...`._"
   ]
  },
  {
   "cell_type": "code",
   "execution_count": 2,
   "id": "b8039405-9770-452f-9077-ce7cb11c5f94",
   "metadata": {},
   "outputs": [
    {
     "name": "stdout",
     "output_type": "stream",
     "text": [
      "SQRT = 3.162277665175675\n",
      "Steps = 5\n"
     ]
    }
   ],
   "source": [
    "function bab_sqrt(y, ε, x0=1)\n",
    "    steps = 0\n",
    "    x = x0\n",
    "    \n",
    "    while abs(x^2 - y) > ε\n",
    "        x = (x + y / x) / 2 \n",
    "        steps += 1\n",
    "    end\n",
    "    return x, steps\n",
    "end\n",
    "\n",
    "\n",
    "y = 10\n",
    "ε = 5e-6\n",
    "\n",
    "sqrt_value, steps = bab_sqrt(y, ε)\n",
    "println(\"SQRT = \", sqrt_value)\n",
    "println(\"Steps = \", steps)"
   ]
  },
  {
   "cell_type": "markdown",
   "id": "2f00b591-17a8-4f77-a828-a0f47117a0f4",
   "metadata": {},
   "source": [
    "## Counting nucleotides\n",
    "Create a function that given a DNA strand (as a `String`, e.g. `\"AGAGAGATCCCTTA\"`) it counts how much of each nucleotide (A G T or C) is present in the strand and returns the result as a dictionary mapping the nucleotides to their counts. The function should throw an error (using the `error` function) if an invalid nucleotide is encountered. Test your result with `\"ATATATAGGCCAX\"` and `\"ATATATAGGCCAA\"`.\n",
    "\n",
    "*Hint: Strings are iterables! They iterate over the characters they contain.*"
   ]
  },
  {
   "cell_type": "code",
   "execution_count": 54,
   "id": "85b9ea18-747d-4ffe-bf7b-4263342538ae",
   "metadata": {},
   "outputs": [
    {
     "name": "stdout",
     "output_type": "stream",
     "text": [
      "Dict(\"DNA\" => Dict('A' => 1, 'G' => 2, 'T' => 2, 'C' => 2))\n",
      "LIKELY RNA\n",
      "Dict(\"DNA\" => Dict('A' => 1, 'G' => 4, 'T' => 2, 'C' => 4))\n"
     ]
    },
    {
     "ename": "LoadError",
     "evalue": "INVALID DNA NUCLEOTIDE S PRESENT",
     "output_type": "error",
     "traceback": [
      "INVALID DNA NUCLEOTIDE S PRESENT",
      "",
      "Stacktrace:",
      " [1] error(s::String)",
      "   @ Base ./error.jl:35",
      " [2] nuc_ct(dna_strand::String)",
      "   @ Main ./In[54]:16",
      " [3] top-level scope",
      "   @ In[54]:32"
     ]
    }
   ],
   "source": [
    "# I tried adding additional code for identifying RNA. Not the most eloquent solution but works.\n",
    "\n",
    "function nuc_ct(dna_strand)\n",
    "    valid_DNAnucleotides = ['C', 'G', 'A', 'T']\n",
    "    countsDNA = Dict(n => 0 for n in valid_DNAnucleotides)\n",
    "\n",
    "    \n",
    "    for nucleotide in dna_strand\n",
    "        if nucleotide in valid_DNAnucleotides\n",
    "            countsDNA[nucleotide] += 1\n",
    "\n",
    "        elseif nucleotide == 'U'\n",
    "            println(\"LIKELY RNA\")\n",
    "            \n",
    "        else\n",
    "            error(\"INVALID DNA NUCLEOTIDE $nucleotide PRESENT\")\n",
    "       end\n",
    "      \n",
    "    end\n",
    "\n",
    "        \n",
    "      return Dict(\"DNA\" => countsDNA)\n",
    "        \n",
    "    end\n",
    "    \n",
    "   \n",
    " \n",
    "\n",
    "\n",
    "println(nuc_ct(\"AGCCGTT\"))\n",
    "println(nuc_ct(\"AGGCCGCCUGTT\"))\n",
    "println(nuc_ct(\"AGSCCGTUT\"))"
   ]
  },
  {
   "cell_type": "markdown",
   "id": "c1ada073-633b-48b2-80e4-22b3d92bb257",
   "metadata": {},
   "source": [
    "## Fibonacci numbers\n",
    "Using recursion (a function that calls itself) create a function that given an integer `n` it returns the `n`-th [Fibonacci number](https://en.wikipedia.org/wiki/Fibonacci_number). Apply it using `map` to the range `1:8` to get the result `[1,1,2,3,5,8,13]`."
   ]
  },
  {
   "cell_type": "code",
   "execution_count": 81,
   "id": "7eb9ed46-ed42-4dae-a476-81080dbda440",
   "metadata": {},
   "outputs": [
    {
     "name": "stdout",
     "output_type": "stream",
     "text": [
      "[1, 1, 2, 3, 5, 8, 13, 21]\n",
      "there are (8,) numbers in this fibbonaci sequence\n",
      "this sequence totals 54\n"
     ]
    }
   ],
   "source": [
    "function fibber(n)\n",
    "        return fibber(n - 1) + fibber(n - 2)\n",
    "end\n",
    "\n",
    "\n",
    "\n",
    "result = map(fibber, 1:8)\n",
    "println(result) \n",
    "S = size(result)\n",
    "println(\"there are $S numbers in this fibbonaci sequence\")\n",
    "UM = sum(result)\n",
    "println(\"this sequence totals $UM\")"
   ]
  },
  {
   "cell_type": "markdown",
   "id": "595bdbd3-c7f4-40a5-813b-f01ecbd93e61",
   "metadata": {},
   "source": [
    "## Hamming distance\n",
    "\n",
    "Create a function that calculates the Hamming distance of two equal DNA strands, given as strings. This distance is defined by counting (sequentially) the number of non-equal letters in the two strands, e.g. `\"ATA\"` and `\"ATC\"` have distance of 1, while `\"ATC\"` and `\"CAT\"` have distance of 3. \n",
    "\n",
    "*Hint: this exercise has a one-liner solution, using the `zip` and `count` functions.*"
   ]
  },
  {
   "cell_type": "code",
   "execution_count": 86,
   "id": "e7731c45-c80e-43c3-84bc-66cbdc684b2c",
   "metadata": {},
   "outputs": [
    {
     "name": "stdout",
     "output_type": "stream",
     "text": [
      "3\n"
     ]
    }
   ],
   "source": [
    "function ham(DNA1::String, DNA2::String)\n",
    "    return count(t -> t[1] != t[2], zip(DNA1, DNA2))\n",
    "end\n",
    "\n",
    "DNA1 = \"ACTGTGACA\"\n",
    "DNA2 = \"ACTGAAAAA\"\n",
    "println(ham(DNA1, DNA2))"
   ]
  },
  {
   "cell_type": "code",
   "execution_count": null,
   "id": "10105ad6-78dd-4d69-8040-594c871860c9",
   "metadata": {},
   "outputs": [],
   "source": []
  }
 ],
 "metadata": {
  "kernelspec": {
   "display_name": "Julia 1.11.3",
   "language": "julia",
   "name": "julia-1.11"
  },
  "language_info": {
   "file_extension": ".jl",
   "mimetype": "application/julia",
   "name": "julia",
   "version": "1.11.3"
  }
 },
 "nbformat": 4,
 "nbformat_minor": 5
}
