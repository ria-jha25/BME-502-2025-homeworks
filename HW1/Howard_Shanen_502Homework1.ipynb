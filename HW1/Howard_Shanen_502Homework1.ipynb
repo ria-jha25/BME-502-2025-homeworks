{
 "cells": [
  {
   "cell_type": "markdown",
   "id": "8f3f77c8-1e4f-452a-b383-a5d3fb119c3d",
   "metadata": {},
   "source": [
    "# Homework 1\n",
    "\n",
    "## Solve 3 out of 4 programming problems"
   ]
  },
  {
   "cell_type": "markdown",
   "id": "cc42fbf6-c6cb-4562-8835-dcf0f02de0b1",
   "metadata": {},
   "source": [
    "**Important note for all homeworks: when an exercise says _\"use function `function_name` to do something\"_, you need to first learn how to use the function. For this, you access the function's documentation string, using the help mode (type `?` or `@doc` in the Julia console and then type the function name)!**"
   ]
  },
  {
   "cell_type": "markdown",
   "id": "9d45a2dc-1e53-427e-becf-9d96c03e7fd5",
   "metadata": {},
   "source": [
    "## Babylonian square root\n",
    "To get the square root of $y$ Babylonians used the algorithm $x_{n+1} = \\frac{1}{2}(x_n + \\frac{y}{x_n})$ iteratively starting from some value $x_0$ to converge to $x_n \\to \\sqrt{y}$ as $n\\to \\infty$. Implement this algorithm in a function `babylonian(y, ε, x0 = 1)` (default optional argument `x0`), that takes some convergence tolerance `ε` to compare with the built-in `sqrt(y)`. The function should return the steps it took to reach the square root value within given tolerance.\n",
    "\n",
    "_Hint: for this exercise you only need a `while` code block without any other code structures such as `for, if, ...`._"
   ]
  },
  {
   "cell_type": "code",
   "execution_count": 6,
   "id": "b8039405-9770-452f-9077-ce7cb11c5f94",
   "metadata": {},
   "outputs": [
    {
     "data": {
      "text/plain": [
       "babylonian (generic function with 2 methods)"
      ]
     },
     "execution_count": 6,
     "metadata": {},
     "output_type": "execute_result"
    }
   ],
   "source": [
    "function babylonian(y, ϵ, x0 =1)\n",
    "    xn= x0\n",
    "    ii=0\n",
    "    while abs(xn - sqrt(y)) > ϵ\n",
    "        xn= .5*(xn + y/xn)\n",
    "        ii = ii+1\n",
    "    end\n",
    "    return xn, ii\n",
    "end\n",
    "        "
   ]
  },
  {
   "cell_type": "code",
   "execution_count": 15,
   "id": "c31559e7-dacb-43aa-8ca9-161099477e09",
   "metadata": {},
   "outputs": [
    {
     "data": {
      "text/plain": [
       "(6.08306027903096, 5)"
      ]
     },
     "execution_count": 15,
     "metadata": {},
     "output_type": "execute_result"
    }
   ],
   "source": [
    "babylonian(37, .002)"
   ]
  },
  {
   "cell_type": "markdown",
   "id": "2f00b591-17a8-4f77-a828-a0f47117a0f4",
   "metadata": {},
   "source": [
    "## Counting nucleotides\n",
    "Create a function that given a DNA strand (as a `String`, e.g. `\"AGAGAGATCCCTTA\"`) it counts how much of each nucleotide (A G T or C) is present in the strand and returns the result as a dictionary mapping the nucleotides to their counts. The function should throw an error (using the `error` function) if an invalid nucleotide is encountered. Test your result with `\"ATATATAGGCCAX\"` and `\"ATATATAGGCCAA\"`.\n",
    "\n",
    "*Hint: Strings are iterables! They iterate over the characters they contain.*"
   ]
  },
  {
   "cell_type": "code",
   "execution_count": 6,
   "id": "85b9ea18-747d-4ffe-bf7b-4263342538ae",
   "metadata": {},
   "outputs": [
    {
     "data": {
      "text/plain": [
       "ATGCcount (generic function with 1 method)"
      ]
     },
     "execution_count": 6,
     "metadata": {},
     "output_type": "execute_result"
    }
   ],
   "source": [
    "function ATGCcount(DNA)\n",
    "    nucleotides = Dict( \"A\" => 0, \"T\" => 0, \"G\" => 0, \"C\" => 0)\n",
    "    for x in DNA\n",
    "        if x == 'A'\n",
    "            nucleotides[\"A\"] = nucleotides[\"A\"] +1\n",
    "        elseif x == 'T'\n",
    "            nucleotides[\"T\"] = nucleotides[\"T\"] +1\n",
    "        elseif x == 'G'\n",
    "            nucleotides[\"G\"] = nucleotides[\"G\"] +1\n",
    "        elseif x == 'C'\n",
    "            nucleotides[\"C\"] = nucleotides[\"C\"] +1\n",
    "        else error(\"Not a nucleotide\")\n",
    "        end\n",
    "    end\n",
    "    return nucleotides\n",
    "end\n",
    "    "
   ]
  },
  {
   "cell_type": "code",
   "execution_count": 8,
   "id": "e8739fc6-fe12-4776-89eb-08cb30fb4473",
   "metadata": {},
   "outputs": [
    {
     "data": {
      "text/plain": [
       "Dict{String, Int64} with 4 entries:\n",
       "  \"A\" => 6\n",
       "  \"T\" => 3\n",
       "  \"C\" => 2\n",
       "  \"G\" => 2"
      ]
     },
     "execution_count": 8,
     "metadata": {},
     "output_type": "execute_result"
    }
   ],
   "source": [
    "dnastrnd = \"ATATATAGGCCAA\"\n",
    "ATGCcount(dnastrnd)"
   ]
  },
  {
   "cell_type": "code",
   "execution_count": 9,
   "id": "38200cc7-54eb-46fd-bc09-aced19f95e22",
   "metadata": {},
   "outputs": [
    {
     "ename": "LoadError",
     "evalue": "Not a nucleotide",
     "output_type": "error",
     "traceback": [
      "Not a nucleotide",
      "",
      "Stacktrace:",
      " [1] error(s::String)",
      "   @ Base .\\error.jl:35",
      " [2] ATGCcount(DNA::String)",
      "   @ Main .\\In[6]:12",
      " [3] top-level scope",
      "   @ In[9]:2"
     ]
    }
   ],
   "source": [
    "dnastrnd2 = \"ATATATAGGCCAX\"\n",
    "ATGCcount(dnastrnd2)"
   ]
  },
  {
   "cell_type": "markdown",
   "id": "c1ada073-633b-48b2-80e4-22b3d92bb257",
   "metadata": {},
   "source": [
    "## Fibonacci numbers\n",
    "Using recursion (a function that calls itself) create a function that given an integer `n` it returns the `n`-th [Fibonacci number](https://en.wikipedia.org/wiki/Fibonacci_number). Apply it using `map` to the range `1:8` to get the result `[1,1,2,3,5,8,13]`."
   ]
  },
  {
   "cell_type": "code",
   "execution_count": 10,
   "id": "7eb9ed46-ed42-4dae-a476-81080dbda440",
   "metadata": {},
   "outputs": [
    {
     "data": {
      "text/plain": [
       "Fibonacci (generic function with 1 method)"
      ]
     },
     "execution_count": 10,
     "metadata": {},
     "output_type": "execute_result"
    }
   ],
   "source": [
    "function Fibonacci(n)\n",
    "    if n == 1\n",
    "        return 1\n",
    "    elseif n==2\n",
    "        return 1\n",
    "    else\n",
    "    return Fibonacci(n-1) + Fibonacci(n-2)\n",
    "    end\n",
    "end"
   ]
  },
  {
   "cell_type": "code",
   "execution_count": 15,
   "id": "b3bcac8d-47f0-47ba-82fc-01771f962314",
   "metadata": {},
   "outputs": [
    {
     "data": {
      "text/plain": [
       "8-element Vector{Int64}:\n",
       "  1\n",
       "  1\n",
       "  2\n",
       "  3\n",
       "  5\n",
       "  8\n",
       " 13\n",
       " 21"
      ]
     },
     "execution_count": 15,
     "metadata": {},
     "output_type": "execute_result"
    }
   ],
   "source": [
    "map(Fibonacci, 1:8)"
   ]
  },
  {
   "cell_type": "markdown",
   "id": "595bdbd3-c7f4-40a5-813b-f01ecbd93e61",
   "metadata": {},
   "source": [
    "## Hamming distance\n",
    "\n",
    "Create a function that calculates the Hamming distance of two equal DNA strands, given as strings. This distance is defined by counting (sequentially) the number of non-equal letters in the two strands, e.g. `\"ATA\"` and `\"ATC\"` have distance of 1, while `\"ATC\"` and `\"CAT\"` have distance of 3. \n",
    "\n",
    "*Hint: this exercise has a one-liner solution, using the `zip` and `count` functions.*"
   ]
  },
  {
   "cell_type": "code",
   "execution_count": 22,
   "id": "e7731c45-c80e-43c3-84bc-66cbdc684b2c",
   "metadata": {},
   "outputs": [
    {
     "data": {
      "text/plain": [
       "3"
      ]
     },
     "execution_count": 22,
     "metadata": {},
     "output_type": "execute_result"
    }
   ],
   "source": [
    "dna1 = \"ATC\"\n",
    "dna2 = \"CAT\"\n",
    "\n",
    "HamD = count(x -> x[1] != x[2], zip(dna1, dna2))"
   ]
  },
  {
   "cell_type": "code",
   "execution_count": null,
   "id": "2a81f12a-d900-4965-91b0-1a5ef22d4bee",
   "metadata": {},
   "outputs": [],
   "source": []
  }
 ],
 "metadata": {
  "kernelspec": {
   "display_name": "Julia 1.11.3",
   "language": "julia",
   "name": "julia-1.11"
  },
  "language_info": {
   "file_extension": ".jl",
   "mimetype": "application/julia",
   "name": "julia",
   "version": "1.11.3"
  }
 },
 "nbformat": 4,
 "nbformat_minor": 5
}
