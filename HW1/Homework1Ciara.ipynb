{
 "cells": [
  {
   "cell_type": "markdown",
   "id": "8f3f77c8-1e4f-452a-b383-a5d3fb119c3d",
   "metadata": {},
   "source": [
    "# Homework 1\n",
    "\n",
    "## Solve 3 out of 4 programming problems"
   ]
  },
  {
   "cell_type": "markdown",
   "id": "cc42fbf6-c6cb-4562-8835-dcf0f02de0b1",
   "metadata": {},
   "source": [
    "**Important note for all homeworks: when an exercise says _\"use function `function_name` to do something\"_, you need to first learn how to use the function. For this, you access the function's documentation string, using the help mode (type `?` or `@doc` in the Julia console and then type the function name)!**"
   ]
  },
  {
   "cell_type": "markdown",
   "id": "9d45a2dc-1e53-427e-becf-9d96c03e7fd5",
   "metadata": {},
   "source": [
    "## Babylonian square root\n",
    "To get the square root of $y$ Babylonians used the algorithm $x_{n+1} = \\frac{1}{2}(x_n + \\frac{y}{x_n})$ iteratively starting from some value $x_0$ to converge to $x_n \\to \\sqrt{y}$ as $n\\to \\infty$. Implement this algorithm in a function `babylonian(y, ε, x0 = 1)` (default optional argument `x0`), that takes some convergence tolerance `ε` to compare with the built-in `sqrt(y)`. The function should return the steps it took to reach the square root value within given tolerance.\n",
    "\n",
    "_Hint: for this exercise you only need a `while` code block without any other code structures such as `for, if, ...`._"
   ]
  },
  {
   "cell_type": "code",
   "execution_count": null,
   "id": "b8039405-9770-452f-9077-ce7cb11c5f94",
   "metadata": {},
   "outputs": [],
   "source": [
    " # Test: Finding squareroot of 300\n",
    "\n",
    "(1/2)*(17.32+(300/17.32))\n",
    "\n",
    "17.32*17.32\n",
    "\n",
    "# Creating Function:\n",
    "# Define:\n",
    "# y = number that you are trying to find sqrt of \n",
    "# ε = convergence tolerance\n",
    "# x = Starting point for guess of sqrt(y)\n",
    "\n",
    "                                    "
   ]
  },
  {
   "cell_type": "code",
   "execution_count": null,
   "id": "b7a1fb03",
   "metadata": {},
   "outputs": [],
   "source": [
    "function babylonian(y,ε,x=1,steps=0)\n",
    "    while abs(x^2 - y) > ε\n",
    "        x = 0.5 * (x + y / x)\n",
    "        steps += 1\n",
    "    end\n",
    "    println(\"The value of x is: \", x)\n",
    "    println(\"There were $steps steps\")\n",
    "end\n",
    "\n",
    "babylonian(732736,1e-6)"
   ]
  },
  {
   "cell_type": "markdown",
   "id": "2f00b591-17a8-4f77-a828-a0f47117a0f4",
   "metadata": {},
   "source": [
    "## Counting nucleotides\n",
    "Create a function that given a DNA strand (as a `String`, e.g. `\"AGAGAGATCCCTTA\"`) it counts how much of each nucleotide (A G T or C) is present in the strand and returns the result as a dictionary mapping the nucleotides to their counts. The function should throw an error (using the `error` function) if an invalid nucleotide is encountered. Test your result with `\"ATATATAGGCCAX\"` and `\"ATATATAGGCCAA\"`.\n",
    "\n",
    "*Hint: Strings are iterables! They iterate over the characters they contain.*"
   ]
  },
  {
   "cell_type": "code",
   "execution_count": 45,
   "id": "85b9ea18-747d-4ffe-bf7b-4263342538ae",
   "metadata": {},
   "outputs": [
    {
     "name": "stdout",
     "output_type": "stream",
     "text": [
      "Dict('A' => 6, 'G' => 2, 'T' => 3, 'C' => 2)\n"
     ]
    },
    {
     "ename": "LoadError",
     "evalue": "Invalid nucleotide encountered: X",
     "output_type": "error",
     "traceback": [
      "Invalid nucleotide encountered: X",
      "",
      "Stacktrace:",
      " [1] error(s::String)",
      "   @ Base .\\error.jl:35",
      " [2] count_nucleotides(dna::String)",
      "   @ Main .\\In[45]:10",
      " [3] top-level scope",
      "   @ In[45]:19"
     ]
    }
   ],
   "source": [
    "function count_nucleotides(dna::String)\n",
    "    good_nucleotides = ['A', 'G', 'T', 'C']\n",
    "    # Start with 0 of each\n",
    "    nucleotide_count = Dict(nucleotide=> 0 for nucleotide in good_nucleotides)\n",
    "    \n",
    "    for nucleotide in dna\n",
    "        if nucleotide in good_nucleotides\n",
    "            nucleotide_count[nucleotide] += 1\n",
    "        else\n",
    "            error(\"Invalid nucleotide encountered: $nucleotide\")\n",
    "        end\n",
    "    end\n",
    "    \n",
    "    return nucleotide_count\n",
    "end\n",
    "\n",
    "# Test \n",
    "println(count_nucleotides(\"ATATATAGGCCAA\"))  \n",
    "println(count_nucleotides(\"ATATATAGGCCAX\"))  \n"
   ]
  },
  {
   "cell_type": "markdown",
   "id": "c1ada073-633b-48b2-80e4-22b3d92bb257",
   "metadata": {},
   "source": [
    "## Fibonacci numbers\n",
    "Using recursion (a function that calls itself) create a function that given an integer `n` it returns the `n`-th [Fibonacci number](https://en.wikipedia.org/wiki/Fibonacci_number). Apply it using `map` to the range `1:8` to get the result `[1,1,2,3,5,8,13]`."
   ]
  },
  {
   "cell_type": "code",
   "execution_count": 43,
   "id": "7eb9ed46-ed42-4dae-a476-81080dbda440",
   "metadata": {},
   "outputs": [
    {
     "name": "stdout",
     "output_type": "stream",
     "text": [
      "[1, 1, 2, 3, 5, 8, 13, 21]\n"
     ]
    }
   ],
   "source": [
    "function fibonacci_series(n)\n",
    "    a, b = 1, 1  # First two Fibonacci numbers\n",
    "    list_fib = map(1:n) do _\n",
    "        n = a  \n",
    "        a, b = b, a + b  # Update values for the next step\n",
    "        n\n",
    "    end\n",
    "    println(list_fib)  \n",
    "end\n",
    "\n",
    "fibonacci_series(8) \n",
    "\n",
    "\n"
   ]
  },
  {
   "cell_type": "markdown",
   "id": "595bdbd3-c7f4-40a5-813b-f01ecbd93e61",
   "metadata": {},
   "source": [
    "## Hamming distance\n",
    "\n",
    "Create a function that calculates the Hamming distance of two equal DNA strands, given as strings. This distance is defined by counting (sequentially) the number of non-equal letters in the two strands, e.g. `\"ATA\"` and `\"ATC\"` have distance of 1, while `\"ATC\"` and `\"CAT\"` have distance of 3. \n",
    "\n",
    "*Hint: this exercise has a one-liner solution, using the `zip` and `count` functions.*"
   ]
  },
  {
   "cell_type": "code",
   "execution_count": 51,
   "id": "e7731c45-c80e-43c3-84bc-66cbdc684b2c",
   "metadata": {},
   "outputs": [
    {
     "name": "stdout",
     "output_type": "stream",
     "text": [
      "1\n",
      "3\n"
     ]
    }
   ],
   "source": [
    "function hamming_distance(strand1::String, strand2::String)\n",
    "    if length(strand1) != length(strand2)\n",
    "        error(\"DNA strands must be of equal length\")\n",
    "    end\n",
    "\n",
    "    return count(strands -> strands[1] != strands[2], zip(strand1, strand2))\n",
    "end\n",
    "\n",
    "# Test\n",
    "println(hamming_distance(\"ATA\", \"ATC\"))  \n",
    "println(hamming_distance(\"ATC\", \"CAT\"))  \n",
    "\n"
   ]
  }
 ],
 "metadata": {
  "kernelspec": {
   "display_name": "Julia 1.11.1",
   "language": "julia",
   "name": "julia-1.11"
  },
  "language_info": {
   "file_extension": ".jl",
   "mimetype": "application/julia",
   "name": "julia",
   "version": "1.11.1"
  }
 },
 "nbformat": 4,
 "nbformat_minor": 5
}
