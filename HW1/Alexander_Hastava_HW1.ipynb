{
 "cells": [
  {
   "cell_type": "markdown",
   "id": "8f3f77c8-1e4f-452a-b383-a5d3fb119c3d",
   "metadata": {},
   "source": [
    "# Homework 1\n",
    "\n",
    "## Solve 3 out of 4 programming problems"
   ]
  },
  {
   "cell_type": "markdown",
   "id": "cc42fbf6-c6cb-4562-8835-dcf0f02de0b1",
   "metadata": {},
   "source": [
    "**Important note for all homeworks: when an exercise says _\"use function `function_name` to do something\"_, you need to first learn how to use the function. For this, you access the function's documentation string, using the help mode (type `?` or `@doc` in the Julia console and then type the function name)!**"
   ]
  },
  {
   "cell_type": "markdown",
   "id": "9d45a2dc-1e53-427e-becf-9d96c03e7fd5",
   "metadata": {},
   "source": [
    "## Babylonian square root\n",
    "To get the square root of $y$ Babylonians used the algorithm $x_{n+1} = \\frac{1}{2}(x_n + \\frac{y}{x_n})$ iteratively starting from some value $x_0$ to converge to $x_n \\to \\sqrt{y}$ as $n\\to \\infty$. Implement this algorithm in a function `babylonian(y, ε, x0 = 1)` (default optional argument `x0`), that takes some convergence tolerance `ε` to compare with the built-in `sqrt(y)`. The function should return the steps it took to reach the square root value within given tolerance.\n",
    "\n",
    "_Hint: for this exercise you only need a `while` code block without any other code structures such as `for, if, ...`._"
   ]
  },
  {
   "cell_type": "code",
   "execution_count": null,
   "id": "b8039405-9770-452f-9077-ce7cb11c5f94",
   "metadata": {
    "ExecuteTime": {
     "end_time": "2025-02-07T23:15:47.044Z",
     "start_time": "2025-02-07T23:15:37.780Z"
    }
   },
   "outputs": [
    {
     "name": "stdout",
     "output_type": "stream",
     "text": [
      "Converged in 6 steps to square root value 5.000000\n"
     ]
    }
   ],
   "source": [
    "using Printf\n",
    "\n",
    "function babylonian(y, ε, x0=1.0)\n",
    "    x = x0\n",
    "    steps = 0\n",
    "    target = sqrt(y)\n",
    "\n",
    "    while abs(x - target) > ε\n",
    "        x = 0.5 * (x + y / x)\n",
    "        steps += 1\n",
    "    end\n",
    "\n",
    "    return steps, x\n",
    "end\n",
    "\n",
    "# Sample problem using the number 25 as an example\n",
    "steps, computed_sqrt = babylonian(25, 1e-6)\n",
    "@printf(\"Converged in %d steps to square root value %.6f\\n\", steps, computed_sqrt)"
   ]
  },
  {
   "cell_type": "markdown",
   "id": "2f00b591-17a8-4f77-a828-a0f47117a0f4",
   "metadata": {},
   "source": [
    "## Counting nucleotides\n",
    "Create a function that given a DNA strand (as a `String`, e.g. `\"AGAGAGATCCCTTA\"`) it counts how much of each nucleotide (A G T or C) is present in the strand and returns the result as a dictionary mapping the nucleotides to their counts. The function should throw an error (using the `error` function) if an invalid nucleotide is encountered. Test your result with `\"ATATATAGGCCAX\"` and `\"ATATATAGGCCAA\"`.\n",
    "\n",
    "*Hint: Strings are iterables! They iterate over the characters they contain.*"
   ]
  },
  {
   "cell_type": "code",
   "execution_count": 3,
   "id": "85b9ea18-747d-4ffe-bf7b-4263342538ae",
   "metadata": {},
   "outputs": [
    {
     "name": "stdout",
     "output_type": "stream",
     "text": [
      "Valid DNA strand result:\n",
      "Original sequence: ATATATAGGCCAA\n",
      "Nucleotide counts: Dict('A' => 6, 'G' => 2, 'T' => 3, 'C' => 2)\n",
      "\n",
      "Invalid DNA strand result:\n",
      "Original sequence: ATATATAGGCCAX\n",
      "ErrorException(\"Invalid nucleotide: X\")\n"
     ]
    }
   ],
   "source": [
    "function count_nucleotides(dna::String)\n",
    "    # Initialize a dictionary for counting nucleotides\n",
    "    nucleotide_counts = Dict('A' => 0, 'T' => 0, 'C' => 0, 'G' => 0)\n",
    "\n",
    "    # Iterate over each character in the DNA strand\n",
    "    for nucleotide in dna\n",
    "        if haskey(nucleotide_counts, nucleotide)\n",
    "            nucleotide_counts[nucleotide] += 1\n",
    "        else\n",
    "            error(\"Invalid nucleotide: $nucleotide\")\n",
    "        end\n",
    "    end\n",
    "\n",
    "    return nucleotide_counts\n",
    "end\n",
    "\n",
    "# Sample test cases (one including valid counts and another producing an error)\n",
    "println(\"Valid DNA strand result:\")\n",
    "dna1 = \"ATATATAGGCCAA\"\n",
    "println(\"Original sequence: $dna1\")\n",
    "println(\"Nucleotide counts: $(count_nucleotides(dna1))\")\n",
    "\n",
    "println(\"\\nInvalid DNA strand result:\")\n",
    "dna2 = \"ATATATAGGCCAX\"\n",
    "println(\"Original sequence: $dna2\")\n",
    "try\n",
    "    count_nucleotides(dna2)  # Should throw an error\n",
    "catch e\n",
    "    println(e)\n",
    "end"
   ]
  },
  {
   "cell_type": "markdown",
   "id": "c1ada073-633b-48b2-80e4-22b3d92bb257",
   "metadata": {},
   "source": [
    "## Fibonacci numbers\n",
    "Using recursion (a function that calls itself) create a function that given an integer `n` it returns the `n`-th [Fibonacci number](https://en.wikipedia.org/wiki/Fibonacci_number). Apply it using `map` to the range `1:8` to get the result `[1,1,2,3,5,8,13]`."
   ]
  },
  {
   "cell_type": "code",
   "execution_count": 5,
   "id": "fb3bebe7fa6f4b43",
   "metadata": {},
   "outputs": [
    {
     "name": "stdout",
     "output_type": "stream",
     "text": [
      "The fibonacci sequence for n = 1:8 is: [1, 1, 2, 3, 5, 8, 13, 21]\n"
     ]
    }
   ],
   "source": [
    "function fibonacci(n::Int)\n",
    "    # Base cases\n",
    "    if n == 1 || n == 2\n",
    "        return 1\n",
    "    else\n",
    "        # Recursive definition\n",
    "        return fibonacci(n - 1) + fibonacci(n - 2)\n",
    "    end\n",
    "end\n",
    "\n",
    "# Fibonacci function applied to the range 1:8 using map function\n",
    "result = map(fibonacci, 1:8)\n",
    "\n",
    "# Printing the result of the Fibonacci sequence\n",
    "println(\"The fibonacci sequence for n = 1:8 is: $result\")"
   ]
  },
  {
   "cell_type": "markdown",
   "id": "595bdbd3-c7f4-40a5-813b-f01ecbd93e61",
   "metadata": {},
   "source": [
    "## Hamming distance\n",
    "\n",
    "Create a function that calculates the Hamming distance of two equal DNA strands, given as strings. This distance is defined by counting (sequentially) the number of non-equal letters in the two strands, e.g. `\"ATA\"` and `\"ATC\"` have distance of 1, while `\"ATC\"` and `\"CAT\"` have distance of 3. \n",
    "\n",
    "*Hint: this exercise has a one-liner solution, using the `zip` and `count` functions.*"
   ]
  },
  {
   "cell_type": "code",
   "execution_count": 9,
   "id": "e7731c45-c80e-43c3-84bc-66cbdc684b2c",
   "metadata": {},
   "outputs": [
    {
     "name": "stdout",
     "output_type": "stream",
     "text": [
      "The Hamming distance between 'ATA' and 'ATC' is: 1\n",
      "The Hamming distance between 'ATC' and 'CAT' is: 3\n"
     ]
    }
   ],
   "source": [
    "function hamming_distance(strand1::String, strand2::String)\n",
    "    # Check if DNA strands are of equal length\n",
    "    if length(strand1) != length(strand2)\n",
    "        error(\"Strands must be of equal length\")\n",
    "    end\n",
    "    \n",
    "    # Compute Hamming distance using zip and count functions\n",
    "    return count(t -> t[1] != t[2], zip(strand1, strand2))\n",
    "end\n",
    "\n",
    "# Test cases\n",
    "println(\"The Hamming distance between 'ATA' and 'ATC' is: \", hamming_distance(\"ATA\", \"ATC\"))  # Answer is equal to 1\n",
    "println(\"The Hamming distance between 'ATC' and 'CAT' is: \", hamming_distance(\"ATC\", \"CAT\"))  # Answer is equal to 3"
   ]
  }
 ],
 "metadata": {
  "kernelspec": {
   "display_name": "Julia 1.11.3",
   "language": "julia",
   "name": "julia-1.11"
  },
  "language_info": {
   "file_extension": ".jl",
   "mimetype": "application/julia",
   "name": "julia",
   "version": "1.11.3"
  }
 },
 "nbformat": 4,
 "nbformat_minor": 5
}
