{
 "cells": [
  {
   "cell_type": "markdown",
   "id": "8f3f77c8-1e4f-452a-b383-a5d3fb119c3d",
   "metadata": {},
   "source": [
    "# Homework 1\n",
    "\n",
    "## Solve 3 out of 4 programming problems"
   ]
  },
  {
   "cell_type": "markdown",
   "id": "cc42fbf6-c6cb-4562-8835-dcf0f02de0b1",
   "metadata": {},
   "source": [
    "**Important note for all homeworks: when an exercise says _\"use function `function_name` to do something\"_, you need to first learn how to use the function. For this, you access the function's documentation string, using the help mode (type `?` or `@doc` in the Julia console and then type the function name)!**"
   ]
  },
  {
   "cell_type": "code",
   "execution_count": 49,
   "id": "ef39eade",
   "metadata": {},
   "outputs": [],
   "source": []
  },
  {
   "cell_type": "markdown",
   "id": "9d45a2dc-1e53-427e-becf-9d96c03e7fd5",
   "metadata": {},
   "source": [
    "## Babylonian square root\n",
    "To get the square root of $y$ Babylonians used the algorithm $x_{n+1} = \\frac{1}{2}(x_n + \\frac{y}{x_n})$ iteratively starting from some value $x_0$ to converge to $x_n \\to \\sqrt{y}$ as $n\\to \\infty$. Implement this algorithm in a function `babylonian(y, ε, x0 = 1)` (default optional argument `x0`), that takes some convergence tolerance `ε` to compare with the built-in `sqrt(y)`. The function should return the steps it took to reach the square root value within given tolerance.\n",
    "\n",
    "_Hint: for this exercise you only need a `while` code block without any other code structures such as `for, if, ...`._"
   ]
  },
  {
   "cell_type": "code",
   "execution_count": 50,
   "id": "b8039405-9770-452f-9077-ce7cb11c5f94",
   "metadata": {},
   "outputs": [
    {
     "data": {
      "text/plain": [
       "babylonian (generic function with 2 methods)"
      ]
     },
     "metadata": {},
     "output_type": "display_data"
    }
   ],
   "source": [
    "function babylonian(y, ε, x0 = 1)\n",
    "    steps = 0\n",
    "    sqrty = sqrt(y)\n",
    "    xn = x0\n",
    "    while abs(xn - sqrty) > ε\n",
    "        xn = 0.5*(xn+y/xn)\n",
    "        steps = steps + 1\n",
    "    end\n",
    "    return steps\n",
    "    # return steps,xn\n",
    "end"
   ]
  },
  {
   "cell_type": "code",
   "execution_count": 51,
   "id": "5a9fd21e",
   "metadata": {},
   "outputs": [
    {
     "data": {
      "text/plain": [
       "6"
      ]
     },
     "metadata": {},
     "output_type": "display_data"
    }
   ],
   "source": [
    "babylonian(50,0.00001)"
   ]
  },
  {
   "cell_type": "markdown",
   "id": "2f00b591-17a8-4f77-a828-a0f47117a0f4",
   "metadata": {},
   "source": [
    "## Counting nucleotides\n",
    "Create a function that given a DNA strand (as a `String`, e.g. `\"AGAGAGATCCCTTA\"`) it counts how much of each nucleotide (A G T or C) is present in the strand and returns the result as a dictionary mapping the nucleotides to their counts. The function should throw an error (using the `error` function) if an invalid nucleotide is encountered. Test your result with `\"ATATATAGGCCAX\"` and `\"ATATATAGGCCAA\"`.\n",
    "\n",
    "*Hint: Strings are iterables! They iterate over the characters they contain.*"
   ]
  },
  {
   "cell_type": "code",
   "execution_count": 52,
   "id": "85b9ea18-747d-4ffe-bf7b-4263342538ae",
   "metadata": {},
   "outputs": [
    {
     "data": {
      "text/plain": [
       "countnuc (generic function with 1 method)"
      ]
     },
     "metadata": {},
     "output_type": "display_data"
    }
   ],
   "source": [
    "function countnuc(nucstring)\n",
    "    nucdict = Dict{Char,Integer}([('A',0),('G',0),('T',0),('C',0)])\n",
    "    validnucs = \"AGTC\"\n",
    "    for base in nucstring\n",
    "        if base in validnucs\n",
    "            nucdict[base] = nucdict[base] + 1\n",
    "        else\n",
    "            return error(string(\"Invalid Base: \",base))\n",
    "        end\n",
    "    end\n",
    "    return nucdict\n",
    "end"
   ]
  },
  {
   "cell_type": "code",
   "execution_count": 53,
   "id": "20490a45",
   "metadata": {},
   "outputs": [
    {
     "ename": "ErrorException",
     "evalue": "Invalid Base: X",
     "output_type": "error",
     "traceback": [
      "Invalid Base: X\n",
      "\n",
      "Stacktrace:\n",
      " [1] error(s::String)\n",
      "   @ Base .\\error.jl:35\n",
      " [2] countnuc(nucstring::String)\n",
      "   @ Main c:\\Users\\mrclo\\Documents\\JuliaScripts\\BME-502-2025-homeworks\\jl_notebook_cell_df34fa98e69747e1a8f8a730347b8e2f_W6sZmlsZQ==.jl:8\n",
      " [3] top-level scope\n",
      "   @ c:\\Users\\mrclo\\Documents\\JuliaScripts\\BME-502-2025-homeworks\\jl_notebook_cell_df34fa98e69747e1a8f8a730347b8e2f_X15sZmlsZQ==.jl:1"
     ]
    }
   ],
   "source": [
    "println(countnuc(\"ATATATAGGCCAX\"))"
   ]
  },
  {
   "cell_type": "code",
   "execution_count": 54,
   "id": "d0575542",
   "metadata": {},
   "outputs": [
    {
     "name": "stdout",
     "output_type": "stream",
     "text": [
      "Dict{Char, Integer}('A' => 6, 'G' => 2, 'T' => 3, 'C' => 2)\n"
     ]
    }
   ],
   "source": [
    "println(countnuc(\"ATATATAGGCCAA\"))"
   ]
  },
  {
   "cell_type": "markdown",
   "id": "c1ada073-633b-48b2-80e4-22b3d92bb257",
   "metadata": {},
   "source": [
    "## Fibonacci numbers\n",
    "Using recursion (a function that calls itself) create a function that given an integer `n` it returns the `n`-th [Fibonacci number](https://en.wikipedia.org/wiki/Fibonacci_number). Apply it using `map` to the range `1:8` to get the result `[1,1,2,3,5,8,13]`."
   ]
  },
  {
   "cell_type": "code",
   "execution_count": 55,
   "id": "7eb9ed46-ed42-4dae-a476-81080dbda440",
   "metadata": {},
   "outputs": [
    {
     "data": {
      "text/plain": [
       "8-element Vector{Int64}:\n",
       "  1\n",
       "  1\n",
       "  2\n",
       "  3\n",
       "  5\n",
       "  8\n",
       " 13\n",
       " 21"
      ]
     },
     "metadata": {},
     "output_type": "display_data"
    }
   ],
   "source": [
    "function fibonacci(n)\n",
    "    if (n == 1) || (n == 2)\n",
    "        return 1\n",
    "    end\n",
    "    return fibonacci(n-1)+fibonacci(n-2)\n",
    "end\n",
    "\n",
    "map(x -> fibonacci(x), 1:8)\n"
   ]
  },
  {
   "cell_type": "markdown",
   "id": "595bdbd3-c7f4-40a5-813b-f01ecbd93e61",
   "metadata": {},
   "source": [
    "## Hamming distance\n",
    "\n",
    "Create a function that calculates the Hamming distance of two equal DNA strands, given as strings. This distance is defined by counting (sequentially) the number of non-equal letters in the two strands, e.g. `\"ATA\"` and `\"ATC\"` have distance of 1, while `\"ATC\"` and `\"CAT\"` have distance of 3. \n",
    "\n",
    "*Hint: this exercise has a one-liner solution, using the `zip` and `count` functions.*"
   ]
  },
  {
   "cell_type": "code",
   "execution_count": 56,
   "id": "e7731c45-c80e-43c3-84bc-66cbdc684b2c",
   "metadata": {},
   "outputs": [
    {
     "data": {
      "text/plain": [
       "hamming_dist (generic function with 1 method)"
      ]
     },
     "metadata": {},
     "output_type": "display_data"
    }
   ],
   "source": [
    "function hamming_dist(DNA1,DNA2)\n",
    "    return count(i->i[1]!=i[2],zip(DNA1,DNA2))\n",
    "end"
   ]
  },
  {
   "cell_type": "code",
   "execution_count": 57,
   "id": "9ed1ecc3",
   "metadata": {},
   "outputs": [
    {
     "name": "stdout",
     "output_type": "stream",
     "text": [
      "1\n",
      "3\n"
     ]
    }
   ],
   "source": [
    "println(hamming_dist(\"ATA\",\"ATC\"))\n",
    "println(hamming_dist(\"CAT\",\"ATC\"))"
   ]
  }
 ],
 "metadata": {
  "kernelspec": {
   "display_name": "Julia 1.11.3",
   "language": "julia",
   "name": "julia-1.11"
  },
  "language_info": {
   "file_extension": ".jl",
   "mimetype": "application/julia",
   "name": "julia",
   "version": "1.11.3"
  }
 },
 "nbformat": 4,
 "nbformat_minor": 5
}
