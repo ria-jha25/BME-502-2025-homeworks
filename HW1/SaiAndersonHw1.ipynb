{
 "cells": [
  {
   "cell_type": "code",
   "execution_count": null,
   "metadata": {},
   "outputs": [],
   "source": [
    "function count_nucleotides(DNA)\n",
    "    DNAstrand = Dict('A' => 0, 'T' => 0, 'G' => 0, 'C' => 0) #for nucleotide in string\n",
    "        for nucleotide in DNA\n",
    "           if  haskey(DNAstrand,nucleotide)\n",
    "                DNAstrand[nucleotide] +=1 \n",
    "           else error(\"unknown nucleotides $(nucleotide)!\")\n",
    "           end\n",
    "        end\n",
    "    return DNAstrand\n",
    "end\n",
    "count_nucleotides(\"ATATATAGGCCAX\") \n",
    "count_nucleotides(\"ATATATAGGCCAA\")\n",
    "\n"
   ]
  },
  {
   "cell_type": "code",
   "execution_count": null,
   "metadata": {},
   "outputs": [],
   "source": [
    "function fibonacci(n)\n",
    "    if (n == 1) || (n == 2) \n",
    "         return 1\n",
    "    end \n",
    "    return fibonacci(n-1) + fibonacci(n-2)\n",
    "end\n",
    "fibonacci.(1:8)\n"
   ]
  },
  {
   "cell_type": "code",
   "execution_count": null,
   "metadata": {},
   "outputs": [],
   "source": [
    "function hamming(s1, s2) \n",
    "    return count(pair -> pair[1] != pair[2], zip(s1, s2))\n",
    "\n",
    "\n",
    "    hamming(\"ATA\", \"ATC\")\n",
    "    hamming(\"ATC\", \"CAT\")\n",
    "end"
   ]
  }
 ],
 "metadata": {
  "kernelspec": {
   "display_name": "Julia 1.11.3",
   "language": "julia",
   "name": "julia-1.11"
  },
  "language_info": {
   "file_extension": ".jl",
   "mimetype": "application/julia",
   "name": "julia",
   "version": "1.11.3"
  }
 },
 "nbformat": 4,
 "nbformat_minor": 2
}
