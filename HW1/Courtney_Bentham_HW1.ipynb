{
 "cells": [
  {
   "cell_type": "markdown",
   "id": "8f3f77c8-1e4f-452a-b383-a5d3fb119c3d",
   "metadata": {},
   "source": [
    "# Homework 1\n",
    "\n",
    "## Solve 3 out of 4 programming problems"
   ]
  },
  {
   "cell_type": "markdown",
   "id": "cc42fbf6-c6cb-4562-8835-dcf0f02de0b1",
   "metadata": {},
   "source": [
    "**Important note for all homeworks: when an exercise says _\"use function `function_name` to do something\"_, you need to first learn how to use the function. For this, you access the function's documentation string, using the help mode (type `?` or `@doc` in the Julia console and then type the function name)!**"
   ]
  },
  {
   "cell_type": "markdown",
   "id": "9d45a2dc-1e53-427e-becf-9d96c03e7fd5",
   "metadata": {},
   "source": [
    "## Babylonian square root\n",
    "To get the square root of $y$ Babylonians used the algorithm $x_{n+1} = \\frac{1}{2}(x_n + \\frac{y}{x_n})$ iteratively starting from some value $x_0$ to converge to $x_n \\to \\sqrt{y}$ as $n\\to \\infty$. Implement this algorithm in a function `babylonian(y, ε, x0 = 1)` (default optional argument `x0`), that takes some convergence tolerance `ε` to compare with the built-in `sqrt(y)`. The function should return the steps it took to reach the square root value within given tolerance.\n",
    "\n",
    "_Hint: for this exercise you only need a `while` code block without any other code structures such as `for, if, ...`._"
   ]
  },
  {
   "cell_type": "code",
   "execution_count": null,
   "id": "b8039405-9770-452f-9077-ce7cb11c5f94",
   "metadata": {},
   "outputs": [],
   "source": [
    "babystep(x, y) = 0.5(x + y/x)\n",
    "function babylonian(y, ε, x0 = 1.0)\n",
    "    n, x, xn = 0, x0, Inf\n",
    "    while abs(x - xn) > ε\n",
    "        xn = x\n",
    "        x = babystep(xn, y)\n",
    "        n += 1\n",
    "    end\n",
    "    return n\n",
    "end\n",
    "babylonian(2, 1e-12)"
   ]
  },
  {
   "cell_type": "markdown",
   "id": "2f00b591-17a8-4f77-a828-a0f47117a0f4",
   "metadata": {},
   "source": [
    "## Counting nucleotides\n",
    "Create a function that given a DNA strand (as a `String`, e.g. `\"AGAGAGATCCCTTA\"`) it counts how much of each nucleotide (A G T or C) is present in the strand and returns the result as a dictionary mapping the nucleotides to their counts. The function should throw an error (using the `error` function) if an invalid nucleotide is encountered. Test your result with `\"ATATATAGGCCAX\"` and `\"ATATATAGGCCAA\"`.\n",
    "\n",
    "*Hint: Strings are iterables! They iterate over the characters they contain.*"
   ]
  },
  {
   "cell_type": "code",
   "execution_count": null,
   "id": "85b9ea18-747d-4ffe-bf7b-4263342538ae",
   "metadata": {},
   "outputs": [],
   "source": [
    "function count_nucleotides(strand)\n",
    "    occurence = Dict('A' => 0, 'C' => 0, 'G' => 0, 'T' => 0) #Function that gives us the number of nucleotides in the DNA\n",
    "    for nucleotide in strand #defines the letters in the string as \"nucleotides\"\n",
    "        if !haskey(occurence, nucleotide) #if the nucleotide defined in the dictionary is found in the string, returns as true\n",
    "            error(\"unknown nucleotide $(nucleotide)!\") #returns an error message and iterates within that message saying which nucleotide is wrong\n",
    "        end\n",
    "        occurence[nucleotide] += 1\n",
    "    end\n",
    "    return occurence\n",
    "end\n",
    "\n",
    "#Will work just fine\n",
    "count_nucleotides(\"AGAGAGATCCCTTA\")\n",
    "\n",
    "#Will return error message when ran\n",
    "#count_nucleotides(\"ATATATAGGCCAX\")"
   ]
  },
  {
   "cell_type": "markdown",
   "id": "c1ada073-633b-48b2-80e4-22b3d92bb257",
   "metadata": {},
   "source": [
    "## Fibonacci numbers\n",
    "Using recursion (a function that calls itself) create a function that given an integer `n` it returns the `n`-th [Fibonacci number](https://en.wikipedia.org/wiki/Fibonacci_number). Apply it using `map` to the range `1:8` to get the result `[1,1,2,3,5,8,13]`."
   ]
  },
  {
   "cell_type": "code",
   "execution_count": null,
   "id": "7eb9ed46-ed42-4dae-a476-81080dbda440",
   "metadata": {},
   "outputs": [],
   "source": [
    "function fibonacci(n)\n",
    "    n ∈ (1, 2) && return 1\n",
    "    return fibonacci(n-1) + fibonacci(n-2)\n",
    "end\n",
    "fibonacci(5)\n",
    "fibonacci.(1:8)\n",
    "fib_sequence = map(fibonacci, 1:8)[1:7]  # Compute for 1:8, then take first 7 elements\n",
    "println(fib_sequence)\n"
   ]
  },
  {
   "cell_type": "markdown",
   "id": "595bdbd3-c7f4-40a5-813b-f01ecbd93e61",
   "metadata": {},
   "source": [
    "## Hamming distance\n",
    "\n",
    "Create a function that calculates the Hamming distance of two equal DNA strands, given as strings. This distance is defined by counting (sequentially) the number of non-equal letters in the two strands, e.g. `\"ATA\"` and `\"ATC\"` have distance of 1, while `\"ATC\"` and `\"CAT\"` have distance of 3. \n",
    "\n",
    "*Hint: this exercise has a one-liner solution, using the `zip` and `count` functions.*"
   ]
  },
  {
   "cell_type": "code",
   "execution_count": null,
   "id": "e7731c45-c80e-43c3-84bc-66cbdc684b2c",
   "metadata": {},
   "outputs": [],
   "source": [
    "hamming(s1, s2) = count(pair -> pair[1] ≠ pair[2], zip(s1, s2))\n",
    "hamming(\"ATC\", \"CAT\")\n"
   ]
  }
 ],
 "metadata": {
  "kernelspec": {
   "display_name": "Julia 1.11.3",
   "language": "julia",
   "name": "julia-1.11"
  },
  "language_info": {
   "file_extension": ".jl",
   "mimetype": "application/julia",
   "name": "julia",
   "version": "1.11.3"
  }
 },
 "nbformat": 4,
 "nbformat_minor": 5
}
