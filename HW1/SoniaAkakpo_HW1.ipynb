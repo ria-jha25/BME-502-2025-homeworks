{
 "cells": [
  {
   "cell_type": "markdown",
   "id": "8f3f77c8-1e4f-452a-b383-a5d3fb119c3d",
   "metadata": {},
   "source": [
    "# Homework 1\n",
    "\n",
    "## Solve 3 out of 4 programming problems"
   ]
  },
  {
   "cell_type": "markdown",
   "id": "cc42fbf6-c6cb-4562-8835-dcf0f02de0b1",
   "metadata": {},
   "source": [
    "**Important note for all homeworks: when an exercise says _\"use function `function_name` to do something\"_, you need to first learn how to use the function. For this, you access the function's documentation string, using the help mode (type `?` or `@doc` in the Julia console and then type the function name)!**"
   ]
  },
  {
   "cell_type": "markdown",
   "id": "9d45a2dc-1e53-427e-becf-9d96c03e7fd5",
   "metadata": {},
   "source": [
    "## Babylonian square root\n",
    "To get the square root of $y$ Babylonians used the algorithm $x_{n+1} = \\frac{1}{2}(x_n + \\frac{y}{x_n})$ iteratively starting from some value $x_0$ to converge to $x_n \\to \\sqrt{y}$ as $n\\to \\infty$. Implement this algorithm in a function `babylonian(y, ε, x0 = 1)` (default optional argument `x0`), that takes some convergence tolerance `ε` to compare with the built-in `sqrt(y)`. The function should return the steps it took to reach the square root value within given tolerance.\n",
    "\n",
    "_Hint: for this exercise you only need a `while` code block without any other code structures such as `for, if, ...`._"
   ]
  },
  {
   "cell_type": "code",
   "execution_count": 28,
   "id": "b8039405-9770-452f-9077-ce7cb11c5f94",
   "metadata": {},
   "outputs": [
    {
     "data": {
      "text/plain": [
       "11"
      ]
     },
     "execution_count": 28,
     "metadata": {},
     "output_type": "execute_result"
    }
   ],
   "source": [
    " steps(x, y) = 0.5(x + y/x)\n",
    "function babylonian(y, ε, x0 = 1.0)\n",
    "    k, x, xk = 0, x0, Inf\n",
    "    while abs(x - xk) > ε\n",
    "        steps(x, y) = 0.5(x + y/x)\n",
    "        xk = x\n",
    "        x = steps(xk, y)\n",
    "        k = k + 1\n",
    "    end\n",
    "    return k\n",
    "end\n",
    "babylonian(10000, 0.000001)"
   ]
  },
  {
   "cell_type": "markdown",
   "id": "2f00b591-17a8-4f77-a828-a0f47117a0f4",
   "metadata": {},
   "source": [
    "## Counting nucleotides\n",
    "Create a function that given a DNA strand (as a `String`, e.g. `\"AGAGAGATCCCTTA\"`) it counts how much of each nucleotide (A G T or C) is present in the strand and returns the result as a dictionary mapping the nucleotides to their counts. The function should throw an error (using the `error` function) if an invalid nucleotide is encountered. Test your result with `\"ATATATAGGCCAX\"` and `\"ATATATAGGCCAA\"`.\n",
    "\n",
    "*Hint: Strings are iterables! They iterate over the characters they contain.*"
   ]
  },
  {
   "cell_type": "code",
   "execution_count": 48,
   "id": "85b9ea18-747d-4ffe-bf7b-4263342538ae",
   "metadata": {},
   "outputs": [
    {
     "data": {
      "text/plain": [
       "count_nucleotides (generic function with 2 methods)"
      ]
     },
     "execution_count": 48,
     "metadata": {},
     "output_type": "execute_result"
    }
   ],
   "source": [
    "function count_nucleotides(DNA)\n",
    "    counts = Dict('A' => 0, 'C' => 0, 'G' => 0, 'T' => 0)\n",
    "    for nucleotide in DNA\n",
    "        if nucleotide == 'A' || nucleotide == 'C' || nucleotide == 'T' || nucleotide == 'G'\n",
    "            counts[nucleotide] = nucleotide + 1 \n",
    "        else \n",
    "            error(\"invalid nucleotide $(nucleotide)!\")\n",
    "        end\n",
    "    end\n",
    "    return counts\n",
    "end\n"
   ]
  },
  {
   "cell_type": "code",
   "execution_count": 50,
   "id": "ac54d60d-cbbf-4bd0-b788-ad6d2843b7d2",
   "metadata": {},
   "outputs": [
    {
     "data": {
      "text/plain": [
       "Dict{Char, Int64} with 4 entries:\n",
       "  'A' => 66\n",
       "  'G' => 72\n",
       "  'T' => 85\n",
       "  'C' => 68"
      ]
     },
     "execution_count": 50,
     "metadata": {},
     "output_type": "execute_result"
    }
   ],
   "source": [
    "count_nucleotides(\"AGAGAGATCCCTTA\")\n"
   ]
  },
  {
   "cell_type": "code",
   "execution_count": 52,
   "id": "48f89ba3-03f3-4629-97c1-50b43c460aae",
   "metadata": {},
   "outputs": [
    {
     "ename": "LoadError",
     "evalue": "invalid nucleotide X!",
     "output_type": "error",
     "traceback": [
      "invalid nucleotide X!",
      "",
      "Stacktrace:",
      " [1] error(s::String)",
      "   @ Base .\\error.jl:35",
      " [2] count_nucleotides(DNA::String)",
      "   @ Main .\\In[46]:7",
      " [3] top-level scope",
      "   @ In[52]:1"
     ]
    }
   ],
   "source": [
    "count_nucleotides(\"ATATATAGGCCAX\")"
   ]
  },
  {
   "cell_type": "markdown",
   "id": "c1ada073-633b-48b2-80e4-22b3d92bb257",
   "metadata": {},
   "source": [
    "## Fibonacci numbers\n",
    "Using recursion (a function that calls itself) create a function that given an integer `n` it returns the `n`-th [Fibonacci number](https://en.wikipedia.org/wiki/Fibonacci_number). Apply it using `map` to the range `1:8` to get the result `[1,1,2,3,5,8,13]`."
   ]
  },
  {
   "cell_type": "code",
   "execution_count": 74,
   "id": "7eb9ed46-ed42-4dae-a476-81080dbda440",
   "metadata": {},
   "outputs": [
    {
     "data": {
      "text/plain": [
       "fibonacci (generic function with 1 method)"
      ]
     },
     "execution_count": 74,
     "metadata": {},
     "output_type": "execute_result"
    }
   ],
   "source": [
    "function fibonacci(n)\n",
    "    if n <= 0\n",
    "        error(\"Invalid number\")\n",
    "    elseif n ∈ (1, 2)\n",
    "            return 1\n",
    "        else \n",
    "            return fibonacci(n-1) + fibonacci(n-2)\n",
    "        end \n",
    "end"
   ]
  },
  {
   "cell_type": "code",
   "execution_count": 76,
   "id": "5fcc3a2f-1bdb-4822-b0b7-f353efb10b89",
   "metadata": {},
   "outputs": [
    {
     "data": {
      "text/plain": [
       "8-element Vector{Int64}:\n",
       "  1\n",
       "  1\n",
       "  2\n",
       "  3\n",
       "  5\n",
       "  8\n",
       " 13\n",
       " 21"
      ]
     },
     "execution_count": 76,
     "metadata": {},
     "output_type": "execute_result"
    }
   ],
   "source": [
    "fibonacci.(1:8)"
   ]
  },
  {
   "cell_type": "markdown",
   "id": "595bdbd3-c7f4-40a5-813b-f01ecbd93e61",
   "metadata": {},
   "source": [
    "## Hamming distance\n",
    "\n",
    "Create a function that calculates the Hamming distance of two equal DNA strands, given as strings. This distance is defined by counting (sequentially) the number of non-equal letters in the two strands, e.g. `\"ATA\"` and `\"ATC\"` have distance of 1, while `\"ATC\"` and `\"CAT\"` have distance of 3. \n",
    "\n",
    "*Hint: this exercise has a one-liner solution, using the `zip` and `count` functions.*"
   ]
  },
  {
   "cell_type": "code",
   "execution_count": 80,
   "id": "e7731c45-c80e-43c3-84bc-66cbdc684b2c",
   "metadata": {},
   "outputs": [
    {
     "data": {
      "text/plain": [
       "3"
      ]
     },
     "execution_count": 80,
     "metadata": {},
     "output_type": "execute_result"
    }
   ],
   "source": [
    "Hamming(s1, s2) = count(pair -> pair[1] ≠ pair[2], zip(s1, s2))\n",
    "Hamming(\"ATA\", \"ATC\")\n",
    "Hamming(\"ATC\", \"CAT\")"
   ]
  }
 ],
 "metadata": {
  "kernelspec": {
   "display_name": "Julia 1.11.3",
   "language": "julia",
   "name": "julia-1.11"
  },
  "language_info": {
   "file_extension": ".jl",
   "mimetype": "application/julia",
   "name": "julia",
   "version": "1.11.3"
  }
 },
 "nbformat": 4,
 "nbformat_minor": 5
}
