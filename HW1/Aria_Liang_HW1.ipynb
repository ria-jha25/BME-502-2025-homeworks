{
 "cells": [
  {
   "cell_type": "markdown",
   "id": "8f3f77c8-1e4f-452a-b383-a5d3fb119c3d",
   "metadata": {},
   "source": [
    "# Homework 1\n",
    "\n",
    "## Solve 3 out of 4 programming problems"
   ]
  },
  {
   "cell_type": "markdown",
   "id": "04add3c6-9c7c-4fac-82bd-f9be0c7ae9f3",
   "metadata": {},
   "source": [
    "Aria Liang BME 502 HW1"
   ]
  },
  {
   "cell_type": "markdown",
   "id": "cc42fbf6-c6cb-4562-8835-dcf0f02de0b1",
   "metadata": {},
   "source": [
    "**Important note for all homeworks: when an exercise says _\"use function `function_name` to do something\"_, you need to first learn how to use the function. For this, you access the function's documentation string, using the help mode (type `?` or `@doc` in the Julia console and then type the function name)!**"
   ]
  },
  {
   "cell_type": "markdown",
   "id": "9d45a2dc-1e53-427e-becf-9d96c03e7fd5",
   "metadata": {},
   "source": [
    "## Babylonian square root\n",
    "To get the square root of $y$ Babylonians used the algorithm $x_{n+1} = \\frac{1}{2}(x_n + \\frac{y}{x_n})$ iteratively starting from some value $x_0$ to converge to $x_n \\to \\sqrt{y}$ as $n\\to \\infty$. Implement this algorithm in a function `babylonian(y, ε, x0 = 1)` (default optional argument `x0`), that takes some convergence tolerance `ε` to compare with the built-in `sqrt(y)`. The function should return the steps it took to reach the square root value within given tolerance.\n",
    "\n",
    "_Hint: for this exercise you only need a `while` code block without any other code structures such as `for, if, ...`._"
   ]
  },
  {
   "cell_type": "code",
   "execution_count": 16,
   "id": "b8039405-9770-452f-9077-ce7cb11c5f94",
   "metadata": {},
   "outputs": [
    {
     "name": "stdout",
     "output_type": "stream",
     "text": [
      "Steps took to reach square root of 121 within given tolerance = 7\n"
     ]
    }
   ],
   "source": [
    "function babylonian_square_root(y, ε, x0 = 1)\n",
    "    xn = x0\n",
    "    steps = 0\n",
    "    while abs(xn - sqrt(y)) > ε\n",
    "        xn = 0.5 *(xn + y / xn)\n",
    "        steps += 1\n",
    "    end\n",
    "    return steps\n",
    "end\n",
    "\n",
    "# Example:\n",
    "y = 121\n",
    "ε = 0.0001\n",
    "steps = babylonian_square_root(y, ε)\n",
    "println(\"Steps took to reach square root of $y within given tolerance = $steps\")"
   ]
  },
  {
   "cell_type": "markdown",
   "id": "2f00b591-17a8-4f77-a828-a0f47117a0f4",
   "metadata": {},
   "source": [
    "## Counting nucleotides\n",
    "Create a function that given a DNA strand (as a `String`, e.g. `\"AGAGAGATCCCTTA\"`) it counts how much of each nucleotide (A G T or C) is present in the strand and returns the result as a dictionary mapping the nucleotides to their counts. The function should throw an error (using the `error` function) if an invalid nucleotide is encountered. Test your result with `\"ATATATAGGCCAX\"` and `\"ATATATAGGCCAA\"`.\n",
    "\n",
    "*Hint: Strings are iterables! They iterate over the characters they contain.*"
   ]
  },
  {
   "cell_type": "code",
   "execution_count": 11,
   "id": "85b9ea18-747d-4ffe-bf7b-4263342538ae",
   "metadata": {},
   "outputs": [
    {
     "name": "stdout",
     "output_type": "stream",
     "text": [
      "Dict('A' => 6, 'G' => 2, 'T' => 3, 'C' => 2)\n"
     ]
    }
   ],
   "source": [
    "function count_nucleotides(DNA::String)\n",
    "    counts = Dict('A' => 0, 'T' => 0, 'G' => 0, 'C' => 0)\n",
    "    for nucleotide in DNA\n",
    "        if nucleotide == 'A' || nucleotide == 'T' || nucleotide == 'G'||nucleotide == 'C'\n",
    "            counts[nucleotide] += 1\n",
    "        else\n",
    "            error(\"Invalid nucleotide encountered: $nucleotide\")\n",
    "        end\n",
    "    end\n",
    "    return counts\n",
    "end\n",
    "\n",
    "println(count_nucleotides(\"ATATATAGGCCAA\"))"
   ]
  },
  {
   "cell_type": "code",
   "execution_count": 10,
   "id": "cf2da05f-d017-43bf-bf95-87ec206b0f5d",
   "metadata": {},
   "outputs": [
    {
     "ename": "LoadError",
     "evalue": "Invalid nucleotide encountered: X",
     "output_type": "error",
     "traceback": [
      "Invalid nucleotide encountered: X",
      "",
      "Stacktrace:",
      " [1] error(s::String)",
      "   @ Base ./error.jl:35",
      " [2] count_nucleotides(DNA::String)",
      "   @ Main ./In[8]:7",
      " [3] top-level scope",
      "   @ In[10]:1"
     ]
    }
   ],
   "source": [
    "println(count_nucleotides(\"ATATATAGGCCAX\"))"
   ]
  },
  {
   "cell_type": "markdown",
   "id": "c1ada073-633b-48b2-80e4-22b3d92bb257",
   "metadata": {},
   "source": [
    "## Fibonacci numbers\n",
    "Using recursion (a function that calls itself) create a function that given an integer `n` it returns the `n`-th [Fibonacci number](https://en.wikipedia.org/wiki/Fibonacci_number). Apply it using `map` to the range `1:8` to get the result `[1,1,2,3,5,8,13]`."
   ]
  },
  {
   "cell_type": "code",
   "execution_count": 3,
   "id": "7eb9ed46-ed42-4dae-a476-81080dbda440",
   "metadata": {},
   "outputs": [
    {
     "name": "stdout",
     "output_type": "stream",
     "text": [
      "[1, 1, 2, 3, 5, 8, 13, 21]\n"
     ]
    }
   ],
   "source": [
    "function fibonacci(n::Int)\n",
    "    if n <= 0\n",
    "        error(\"Input must be a positive integer\")\n",
    "    elseif n == 1 || n == 2\n",
    "        return 1\n",
    "    else return fibonacci(n - 1) + fibonacci(n - 2)\n",
    "    end\n",
    "end\n",
    "\n",
    "fibonacci_numbers = map(fibonacci, 1:8)\n",
    "println(fibonacci_numbers)"
   ]
  },
  {
   "cell_type": "markdown",
   "id": "595bdbd3-c7f4-40a5-813b-f01ecbd93e61",
   "metadata": {},
   "source": [
    "## Hamming distance\n",
    "\n",
    "Create a function that calculates the Hamming distance of two equal DNA strands, given as strings. This distance is defined by counting (sequentially) the number of non-equal letters in the two strands, e.g. `\"ATA\"` and `\"ATC\"` have distance of 1, while `\"ATC\"` and `\"CAT\"` have distance of 3. \n",
    "\n",
    "*Hint: this exercise has a one-liner solution, using the `zip` and `count` functions.*"
   ]
  },
  {
   "cell_type": "code",
   "execution_count": 16,
   "id": "e7731c45-c80e-43c3-84bc-66cbdc684b2c",
   "metadata": {},
   "outputs": [
    {
     "name": "stdout",
     "output_type": "stream",
     "text": [
      "1\n",
      "3\n"
     ]
    }
   ],
   "source": [
    "function hamming_distance(DNAstrand1::String, DNAstrand2::String)\n",
    "    if length(DNAstrand1)!= length(DNAstrand2)\n",
    "        error(\"DNA strands must be euqal in length\")\n",
    "        end\n",
    "        return count(t -> t[1]!= t[2], zip(DNAstrand1, DNAstrand2))\n",
    "end\n",
    "println(hamming_distance(\"ATA\", \"ATC\"))\n",
    "println(hamming_distance(\"ATC\", \"CAT\"))"
   ]
  },
  {
   "cell_type": "code",
   "execution_count": null,
   "id": "659a6a4f-74ff-4c93-a329-e9063522a91c",
   "metadata": {},
   "outputs": [],
   "source": []
  }
 ],
 "metadata": {
  "kernelspec": {
   "display_name": "Julia 1.11.3",
   "language": "julia",
   "name": "julia-1.11"
  },
  "language_info": {
   "file_extension": ".jl",
   "mimetype": "application/julia",
   "name": "julia",
   "version": "1.11.3"
  }
 },
 "nbformat": 4,
 "nbformat_minor": 5
}
